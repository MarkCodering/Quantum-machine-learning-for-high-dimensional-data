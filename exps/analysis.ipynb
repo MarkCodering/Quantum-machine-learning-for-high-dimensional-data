{
 "cells": [
  {
   "cell_type": "code",
   "execution_count": 55,
   "metadata": {},
   "outputs": [],
   "source": [
    "import numpy as np\n",
    "import matplotlib.pyplot as plt"
   ]
  },
  {
   "cell_type": "code",
   "execution_count": 56,
   "metadata": {},
   "outputs": [],
   "source": [
    "# Path: analysis.ipynb\n",
    "hybrid_acc = []\n",
    "hybrid_runtime = []\n",
    "with open('training_hybrid_v2_nov_7th_2.csv', 'r') as f:\n",
    "    data = f.read().split('\\n')\n",
    "    data = [row.split(',') for row in data]\n",
    "    for row in data:\n",
    "        hybrid_acc.append(float(row[2]))\n",
    "        hybrid_runtime.append(float(row[3]))"
   ]
  },
  {
   "cell_type": "code",
   "execution_count": 57,
   "metadata": {},
   "outputs": [],
   "source": [
    "# Path: analysis.ipynb\n",
    "classical_acc = []\n",
    "classical_runtime = []\n",
    "with open('training_classical.csv', 'r') as f:\n",
    "    data_classical = f.read().split('\\n')\n",
    "    data_classical = [row.split(',') for row in data_classical]\n",
    "    for row in data_classical:\n",
    "        classical_acc.append(float(row[2]))\n",
    "        classical_runtime.append(float(row[3]))"
   ]
  },
  {
   "cell_type": "code",
   "execution_count": 58,
   "metadata": {},
   "outputs": [
    {
     "name": "stdout",
     "output_type": "stream",
     "text": [
      "Hybrid accuracy:  0.8979193758127438\n",
      "Hybrid std:  0.0\n",
      "Hybrid max:  0.8979193758127438\n",
      "Hybrid min:  0.8979193758127438\n",
      "Hybrid median:  0.8979193758127438\n",
      "Classical accuracy:  0.8862158647594278\n",
      "Classical std:  0.005727624329140504\n",
      "Classical max:  0.8946684005201561\n",
      "Classical min:  0.8784135240572172\n",
      "Classical median:  0.8868660598179454\n",
      "Hybrid accuracy:  89.79 %\n",
      "Classical accuracy:  88.69 %\n",
      "----------------------------------------------\n",
      "Hybrid model accuracy outperforms by:  1.1 %\n",
      "Hybrid runtime:  443.48 sec\n",
      "Classical runtime:  422.15 sec\n",
      "Hybrid utility:  0.894\n",
      "Classical utility:  0.549\n"
     ]
    }
   ],
   "source": [
    "print('Hybrid accuracy: ', np.average(hybrid_acc))\n",
    "print('Hybrid std: ', np.std(hybrid_acc))\n",
    "print('Hybrid max: ', np.max(hybrid_acc))\n",
    "print('Hybrid min: ', np.min(hybrid_acc))\n",
    "print('Hybrid median: ', np.median(hybrid_acc))\n",
    "\n",
    "print('Classical accuracy: ', np.average(classical_acc))\n",
    "print('Classical std: ', np.std(classical_acc))\n",
    "print('Classical max: ', np.max(classical_acc))\n",
    "print('Classical min: ', np.min(classical_acc))\n",
    "print('Classical median: ', np.median(classical_acc))\n",
    "hybrid_acc = round(np.median(hybrid_acc) * 100, 2)\n",
    "classical_acc = round(np.median(classical_acc) * 100, 2)\n",
    "print('Hybrid accuracy: ', hybrid_acc, '%')\n",
    "print('Classical accuracy: ', classical_acc, '%')\n",
    "hybrid_runtime = np.median(hybrid_runtime)\n",
    "classical_runtime = np.median(classical_runtime)\n",
    "print(\"----------------------------------------------\")\n",
    "print('Hybrid model accuracy outperforms by: ',  round(((hybrid_acc - classical_acc)), 3), '%')\n",
    "print('Hybrid runtime: ', round(hybrid_runtime, 2), 'sec')\n",
    "print('Classical runtime: ', round(classical_runtime, 2), 'sec')\n",
    "\n",
    "hybrid_utility = 0\n",
    "classical_utility = 0\n",
    "\n",
    "hybrid_model_size = 226.46 # in MB\n",
    "classical_model_size = 382.74 # in MB\n",
    "\n",
    "hybrid_utility = (1/(hybrid_runtime * hybrid_model_size) * (hybrid_acc)) * 1000\n",
    "classical_utility = (1/(classical_runtime * classical_model_size) * (classical_acc)) * 1000\n",
    "\n",
    "print('Hybrid utility: ', round(hybrid_utility, 3)) \n",
    "print('Classical utility: ', round(classical_utility, 3))"
   ]
  }
 ],
 "metadata": {
  "kernelspec": {
   "display_name": "Python 3",
   "language": "python",
   "name": "python3"
  },
  "language_info": {
   "codemirror_mode": {
    "name": "ipython",
    "version": 3
   },
   "file_extension": ".py",
   "mimetype": "text/x-python",
   "name": "python",
   "nbconvert_exporter": "python",
   "pygments_lexer": "ipython3",
   "version": "3.8.18"
  }
 },
 "nbformat": 4,
 "nbformat_minor": 2
}
