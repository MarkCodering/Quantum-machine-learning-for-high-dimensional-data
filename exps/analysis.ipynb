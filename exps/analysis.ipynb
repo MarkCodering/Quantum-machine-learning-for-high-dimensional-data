{
 "cells": [
  {
   "cell_type": "code",
   "execution_count": 13,
   "metadata": {},
   "outputs": [],
   "source": [
    "import numpy as np\n",
    "import matplotlib.pyplot as plt"
   ]
  },
  {
   "cell_type": "code",
   "execution_count": 14,
   "metadata": {},
   "outputs": [],
   "source": [
    "# Path: analysis.ipynb\n",
    "hybrid_acc = []\n",
    "with open('training_hybrid.csv', 'r') as f:\n",
    "    data = f.read().split('\\n')\n",
    "    data = [row.split(',') for row in data]\n",
    "    for row in data:\n",
    "        hybrid_acc.append(float(row[2]))\n",
    "\n",
    "# Path: analysis.ipynb\n",
    "classical_acc = []\n",
    "with open('training_classical.csv', 'r') as f:\n",
    "    data_classical = f.read().split('\\n')\n",
    "    data_classical = [row_classical.split(',') for row_classical in data_classical]\n",
    "    for row_classical in data_classical:\n",
    "        classical_acc.append(float(row[2]))"
   ]
  },
  {
   "cell_type": "code",
   "execution_count": 15,
   "metadata": {},
   "outputs": [
    {
     "name": "stdout",
     "output_type": "stream",
     "text": [
      "Hybrid accuracy:  0.8905071521456437\n",
      "Hybrid std:  0.006052055281258848\n",
      "Hybrid max:  0.8959687906371911\n",
      "Hybrid min:  0.8790637191157347\n",
      "Hybrid median:  0.8927178153446034\n",
      "Classical accuracy:  0.8946684005201561\n",
      "Classical std:  0.0\n",
      "Classical max:  0.8946684005201561\n",
      "Classical min:  0.8946684005201561\n",
      "Classical median:  0.8946684005201561\n"
     ]
    }
   ],
   "source": [
    "print('Hybrid accuracy: ', np.average(hybrid_acc))\n",
    "print('Hybrid std: ', np.std(hybrid_acc))\n",
    "print('Hybrid max: ', np.max(hybrid_acc))\n",
    "print('Hybrid min: ', np.min(hybrid_acc))\n",
    "print('Hybrid median: ', np.median(hybrid_acc))\n",
    "\n",
    "print('Classical accuracy: ', np.average(classical_acc))\n",
    "print('Classical std: ', np.std(classical_acc))\n",
    "print('Classical max: ', np.max(classical_acc))\n",
    "print('Classical min: ', np.min(classical_acc))\n",
    "print('Classical median: ', np.median(classical_acc))"
   ]
  }
 ],
 "metadata": {
  "kernelspec": {
   "display_name": "Python 3",
   "language": "python",
   "name": "python3"
  },
  "language_info": {
   "codemirror_mode": {
    "name": "ipython",
    "version": 3
   },
   "file_extension": ".py",
   "mimetype": "text/x-python",
   "name": "python",
   "nbconvert_exporter": "python",
   "pygments_lexer": "ipython3",
   "version": "3.8.18"
  }
 },
 "nbformat": 4,
 "nbformat_minor": 2
}
