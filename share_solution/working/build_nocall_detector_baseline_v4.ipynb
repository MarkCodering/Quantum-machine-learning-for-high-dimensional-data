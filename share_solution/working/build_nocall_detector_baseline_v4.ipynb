{
 "cells": [
  {
   "cell_type": "markdown",
   "metadata": {
    "papermill": {
     "duration": 0.011267,
     "end_time": "2021-06-03T13:18:16.507530",
     "exception": false,
     "start_time": "2021-06-03T13:18:16.496263",
     "status": "completed"
    },
    "tags": []
   },
   "source": [
    "# Credit\n",
    "\n",
    "This notebook is based on the following notebook by @yasufuminakama. I would like to take this opportunity to thank him.\n",
    "\n",
    "Please vote for his notebook as well.\n",
    "\n",
    "https://www.kaggle.com/yasufuminakama/cassava-resnext50-32x4d-starter-training\n",
    "\n",
    "# Summary of this notebook\n",
    "\n",
    "In this notebook, we are gonna build the nocall detector. (0:nocall, 1:somebird singing)\n",
    "\n",
    "The output of the models would be probability value.\n",
    "\n",
    "# input & output of this notebook\n",
    "\n",
    "[input]\n",
    "\n",
    "freefield1010 data\n",
    "\n",
    "https://www.kaggle.com/startjapan/ff1010bird-duration7\n",
    "\n",
    "[output]\n",
    "\n",
    "Nocall detector models are outputted."
   ]
  },
  {
   "cell_type": "code",
   "execution_count": 2,
   "metadata": {
    "execution": {
     "iopub.execute_input": "2021-06-03T13:18:16.537460Z",
     "iopub.status.busy": "2021-06-03T13:18:16.536974Z",
     "iopub.status.idle": "2021-06-03T13:18:16.540823Z",
     "shell.execute_reply": "2021-06-03T13:18:16.540348Z"
    },
    "papermill": {
     "duration": 0.023365,
     "end_time": "2021-06-03T13:18:16.540951",
     "exception": false,
     "start_time": "2021-06-03T13:18:16.517586",
     "status": "completed"
    },
    "tags": []
   },
   "outputs": [
    {
     "ename": "ValueError",
     "evalue": "'channel' can only be 'ibm_cloud' or 'ibm_quantum'",
     "output_type": "error",
     "traceback": [
      "\u001b[0;31m---------------------------------------------------------------------------\u001b[0m",
      "\u001b[0;31mValueError\u001b[0m                                Traceback (most recent call last)",
      "\u001b[1;32m/home/next/Quantum/Quantum-machine-learning-for-high-dimensional-data/share_solution/working/build_nocall_detector_baseline_v4.ipynb Cell 2\u001b[0m line \u001b[0;36m5\n\u001b[1;32m      <a href='vscode-notebook-cell://wsl%2Bubuntu-22.04/home/next/Quantum/Quantum-machine-learning-for-high-dimensional-data/share_solution/working/build_nocall_detector_baseline_v4.ipynb#W1sdnNjb2RlLXJlbW90ZQ%3D%3D?line=1'>2</a>\u001b[0m \u001b[39mfrom\u001b[39;00m \u001b[39mqiskit_ibm_runtime\u001b[39;00m \u001b[39mimport\u001b[39;00m QiskitRuntimeService\n\u001b[1;32m      <a href='vscode-notebook-cell://wsl%2Bubuntu-22.04/home/next/Quantum/Quantum-machine-learning-for-high-dimensional-data/share_solution/working/build_nocall_detector_baseline_v4.ipynb#W1sdnNjb2RlLXJlbW90ZQ%3D%3D?line=3'>4</a>\u001b[0m \u001b[39m# Initialize the account first.\u001b[39;00m\n\u001b[0;32m----> <a href='vscode-notebook-cell://wsl%2Bubuntu-22.04/home/next/Quantum/Quantum-machine-learning-for-high-dimensional-data/share_solution/working/build_nocall_detector_baseline_v4.ipynb#W1sdnNjb2RlLXJlbW90ZQ%3D%3D?line=4'>5</a>\u001b[0m service \u001b[39m=\u001b[39m QiskitRuntimeService(\u001b[39m\"\u001b[39;49m\u001b[39m71f44cda67a73f6d100879ef245ac8c5a93dec11ddfe5dd76a94e909dfb8adb28b916b1cec1e0a7d9802da998b99bee31269090a56d82cac40965a10fb8fa505\u001b[39;49m\u001b[39m\"\u001b[39;49m)\n\u001b[1;32m      <a href='vscode-notebook-cell://wsl%2Bubuntu-22.04/home/next/Quantum/Quantum-machine-learning-for-high-dimensional-data/share_solution/working/build_nocall_detector_baseline_v4.ipynb#W1sdnNjb2RlLXJlbW90ZQ%3D%3D?line=5'>6</a>\u001b[0m service\u001b[39m.\u001b[39mbackends()\n\u001b[1;32m      <a href='vscode-notebook-cell://wsl%2Bubuntu-22.04/home/next/Quantum/Quantum-machine-learning-for-high-dimensional-data/share_solution/working/build_nocall_detector_baseline_v4.ipynb#W1sdnNjb2RlLXJlbW90ZQ%3D%3D?line=7'>8</a>\u001b[0m OUTPUT_DIR \u001b[39m=\u001b[39m \u001b[39m'\u001b[39m\u001b[39m./\u001b[39m\u001b[39m'\u001b[39m\n",
      "File \u001b[0;32m~/.local/lib/python3.10/site-packages/qiskit_ibm_runtime/qiskit_runtime_service.py:177\u001b[0m, in \u001b[0;36mQiskitRuntimeService.__init__\u001b[0;34m(self, channel, token, url, filename, name, instance, proxies, verify, channel_strategy)\u001b[0m\n\u001b[1;32m    135\u001b[0m \u001b[39m\u001b[39m\u001b[39m\"\"\"QiskitRuntimeService constructor\u001b[39;00m\n\u001b[1;32m    136\u001b[0m \n\u001b[1;32m    137\u001b[0m \u001b[39mAn account is selected in the following order:\u001b[39;00m\n\u001b[0;32m   (...)\u001b[0m\n\u001b[1;32m    173\u001b[0m \u001b[39m    IBMInputValueError: If an input is invalid.\u001b[39;00m\n\u001b[1;32m    174\u001b[0m \u001b[39m\"\"\"\u001b[39;00m\n\u001b[1;32m    175\u001b[0m \u001b[39msuper\u001b[39m()\u001b[39m.\u001b[39m\u001b[39m__init__\u001b[39m()\n\u001b[0;32m--> 177\u001b[0m \u001b[39mself\u001b[39m\u001b[39m.\u001b[39m_account \u001b[39m=\u001b[39m \u001b[39mself\u001b[39;49m\u001b[39m.\u001b[39;49m_discover_account(\n\u001b[1;32m    178\u001b[0m     token\u001b[39m=\u001b[39;49mtoken,\n\u001b[1;32m    179\u001b[0m     url\u001b[39m=\u001b[39;49murl,\n\u001b[1;32m    180\u001b[0m     instance\u001b[39m=\u001b[39;49minstance,\n\u001b[1;32m    181\u001b[0m     channel\u001b[39m=\u001b[39;49mchannel,\n\u001b[1;32m    182\u001b[0m     filename\u001b[39m=\u001b[39;49mfilename,\n\u001b[1;32m    183\u001b[0m     name\u001b[39m=\u001b[39;49mname,\n\u001b[1;32m    184\u001b[0m     proxies\u001b[39m=\u001b[39;49mProxyConfiguration(\u001b[39m*\u001b[39;49m\u001b[39m*\u001b[39;49mproxies) \u001b[39mif\u001b[39;49;00m proxies \u001b[39melse\u001b[39;49;00m \u001b[39mNone\u001b[39;49;00m,\n\u001b[1;32m    185\u001b[0m     verify\u001b[39m=\u001b[39;49mverify,\n\u001b[1;32m    186\u001b[0m     channel_strategy\u001b[39m=\u001b[39;49mchannel_strategy,\n\u001b[1;32m    187\u001b[0m )\n\u001b[1;32m    189\u001b[0m \u001b[39mself\u001b[39m\u001b[39m.\u001b[39m_client_params \u001b[39m=\u001b[39m ClientParameters(\n\u001b[1;32m    190\u001b[0m     channel\u001b[39m=\u001b[39m\u001b[39mself\u001b[39m\u001b[39m.\u001b[39m_account\u001b[39m.\u001b[39mchannel,\n\u001b[1;32m    191\u001b[0m     token\u001b[39m=\u001b[39m\u001b[39mself\u001b[39m\u001b[39m.\u001b[39m_account\u001b[39m.\u001b[39mtoken,\n\u001b[0;32m   (...)\u001b[0m\n\u001b[1;32m    195\u001b[0m     verify\u001b[39m=\u001b[39m\u001b[39mself\u001b[39m\u001b[39m.\u001b[39m_account\u001b[39m.\u001b[39mverify,\n\u001b[1;32m    196\u001b[0m )\n\u001b[1;32m    198\u001b[0m \u001b[39mself\u001b[39m\u001b[39m.\u001b[39m_channel_strategy \u001b[39m=\u001b[39m channel_strategy \u001b[39mor\u001b[39;00m \u001b[39mself\u001b[39m\u001b[39m.\u001b[39m_account\u001b[39m.\u001b[39mchannel_strategy\n",
      "File \u001b[0;32m~/.local/lib/python3.10/site-packages/qiskit_ibm_runtime/qiskit_runtime_service.py:272\u001b[0m, in \u001b[0;36mQiskitRuntimeService._discover_account\u001b[0;34m(self, token, url, instance, channel, auth, filename, name, proxies, verify, channel_strategy)\u001b[0m\n\u001b[1;32m    270\u001b[0m     \u001b[39mraise\u001b[39;00m \u001b[39mValueError\u001b[39;00m(\u001b[39m\"\u001b[39m\u001b[39m'\u001b[39m\u001b[39mauth\u001b[39m\u001b[39m'\u001b[39m\u001b[39m can only be \u001b[39m\u001b[39m'\u001b[39m\u001b[39mcloud\u001b[39m\u001b[39m'\u001b[39m\u001b[39m or \u001b[39m\u001b[39m'\u001b[39m\u001b[39mlegacy\u001b[39m\u001b[39m'\u001b[39m\u001b[39m\"\u001b[39m)\n\u001b[1;32m    271\u001b[0m \u001b[39mif\u001b[39;00m channel \u001b[39mand\u001b[39;00m channel \u001b[39mnot\u001b[39;00m \u001b[39min\u001b[39;00m [\u001b[39m\"\u001b[39m\u001b[39mibm_cloud\u001b[39m\u001b[39m\"\u001b[39m, \u001b[39m\"\u001b[39m\u001b[39mibm_quantum\u001b[39m\u001b[39m\"\u001b[39m]:\n\u001b[0;32m--> 272\u001b[0m     \u001b[39mraise\u001b[39;00m \u001b[39mValueError\u001b[39;00m(\u001b[39m\"\u001b[39m\u001b[39m'\u001b[39m\u001b[39mchannel\u001b[39m\u001b[39m'\u001b[39m\u001b[39m can only be \u001b[39m\u001b[39m'\u001b[39m\u001b[39mibm_cloud\u001b[39m\u001b[39m'\u001b[39m\u001b[39m or \u001b[39m\u001b[39m'\u001b[39m\u001b[39mibm_quantum\u001b[39m\u001b[39m'\u001b[39m\u001b[39m\"\u001b[39m)\n\u001b[1;32m    273\u001b[0m channel \u001b[39m=\u001b[39m channel \u001b[39mor\u001b[39;00m \u001b[39mself\u001b[39m\u001b[39m.\u001b[39m_get_channel_for_auth(auth\u001b[39m=\u001b[39mauth)\n\u001b[1;32m    274\u001b[0m \u001b[39mif\u001b[39;00m token:\n",
      "\u001b[0;31mValueError\u001b[0m: 'channel' can only be 'ibm_cloud' or 'ibm_quantum'"
     ]
    }
   ],
   "source": [
    "import os\n",
    "from qiskit_ibm_provider import IBMProvider\n",
    "provider = IBMProvider(instance=\"ibm-q/open/main\")\n",
    "backend1 = provider.get_backend(\"ibm_perth\")\n",
    "OUTPUT_DIR = './'\n",
    "if not os.path.exists(OUTPUT_DIR):\n",
    "    os.makedirs(OUTPUT_DIR)"
   ]
  },
  {
   "cell_type": "code",
   "execution_count": null,
   "metadata": {
    "execution": {
     "iopub.execute_input": "2021-06-03T13:18:16.566791Z",
     "iopub.status.busy": "2021-06-03T13:18:16.566088Z",
     "iopub.status.idle": "2021-06-03T13:18:17.801738Z",
     "shell.execute_reply": "2021-06-03T13:18:17.801136Z"
    },
    "papermill": {
     "duration": 1.250811,
     "end_time": "2021-06-03T13:18:17.801878",
     "exception": false,
     "start_time": "2021-06-03T13:18:16.551067",
     "status": "completed"
    },
    "tags": []
   },
   "outputs": [],
   "source": [
    "import torch\n",
    "\n",
    "class CFG:\n",
    "    print_freq=100\n",
    "    num_workers=4\n",
    "    model_name= 'resnext50_32x4d'\n",
    "    dim=(128, 281)\n",
    "    scheduler='CosineAnnealingWarmRestarts'\n",
    "    epochs=20\n",
    "    #lr=1e-4\n",
    "    lr=0.0001\n",
    "    T_0=10 # for CosineAnnealingWarmRestarts\n",
    "    min_lr=5e-7 # for CosineAnnealingWarmRestarts\n",
    "    batch_size=32\n",
    "    weight_decay=1e-6\n",
    "    max_grad_norm=1000\n",
    "    seed=42\n",
    "    target_size=2\n",
    "    target_col='hasbird'\n",
    "    n_fold = 5\n",
    "    pretrained = True\n",
    "    #device = 'cpu'\n",
    "    device = torch.device('cuda' if torch.cuda.is_available() else 'cpu')"
   ]
  },
  {
   "cell_type": "code",
   "execution_count": null,
   "metadata": {
    "execution": {
     "iopub.execute_input": "2021-06-03T13:18:17.830157Z",
     "iopub.status.busy": "2021-06-03T13:18:17.829448Z",
     "iopub.status.idle": "2021-06-03T13:18:18.811434Z",
     "shell.execute_reply": "2021-06-03T13:18:18.810978Z"
    },
    "papermill": {
     "duration": 0.999064,
     "end_time": "2021-06-03T13:18:18.811555",
     "exception": false,
     "start_time": "2021-06-03T13:18:17.812491",
     "status": "completed"
    },
    "tags": []
   },
   "outputs": [
    {
     "name": "stdout",
     "output_type": "stream",
     "text": [
      "fold  hasbird\n",
      "0     0          1151\n",
      "      1           387\n",
      "1     0          1151\n",
      "      1           387\n",
      "2     0          1151\n",
      "      1           387\n",
      "3     0          1151\n",
      "      1           387\n",
      "4     0          1151\n",
      "      1           387\n",
      "dtype: int64\n"
     ]
    }
   ],
   "source": [
    "from sklearn.model_selection import StratifiedKFold\n",
    "import pandas as pd\n",
    "\n",
    "train = pd.read_csv('/home/next/Quantum/Quantum-machine-learning-for-high-dimensional-data/input/rich_metadata.csv')\n",
    "train.loc[train['hasbird']==0, 'filepath'] = '/home/next/Quantum/Quantum-machine-learning-for-high-dimensional-data/input/nocall/' + train.query('hasbird==0')['filename'] + '.npy'\n",
    "train.loc[train['hasbird']==1, 'filepath'] = '/home/next/Quantum/Quantum-machine-learning-for-high-dimensional-data/input/bird/' + train.query('hasbird==1')['filename'] + '.npy'\n",
    "\n",
    "train = train.dropna().reset_index(drop=True)\n",
    "\n",
    "folds = train.copy()\n",
    "Fold = StratifiedKFold(n_splits=CFG.n_fold, shuffle=True, random_state=CFG.seed)\n",
    "for n, (train_index, val_index) in enumerate(Fold.split(folds, folds[CFG.target_col])):\n",
    "    folds.loc[val_index, 'fold'] = int(n)\n",
    "folds['fold'] = folds['fold'].astype(int)\n",
    "print(folds.groupby(['fold', CFG.target_col]).size())"
   ]
  },
  {
   "cell_type": "code",
   "execution_count": null,
   "metadata": {
    "execution": {
     "iopub.execute_input": "2021-06-03T13:18:18.844986Z",
     "iopub.status.busy": "2021-06-03T13:18:18.844348Z",
     "iopub.status.idle": "2021-06-03T13:18:28.957198Z",
     "shell.execute_reply": "2021-06-03T13:18:28.956722Z"
    },
    "papermill": {
     "duration": 10.134555,
     "end_time": "2021-06-03T13:18:28.957330",
     "exception": false,
     "start_time": "2021-06-03T13:18:18.822775",
     "status": "completed"
    },
    "tags": []
   },
   "outputs": [],
   "source": [
    "import os\n",
    "import math\n",
    "import time\n",
    "import random\n",
    "import shutil\n",
    "from pathlib import Path\n",
    "from contextlib import contextmanager\n",
    "from collections import defaultdict, Counter\n",
    "\n",
    "import scipy as sp\n",
    "import numpy as np\n",
    "import pandas as pd\n",
    "import matplotlib.pyplot as plt\n",
    "\n",
    "from sklearn import preprocessing\n",
    "from sklearn.metrics import accuracy_score, confusion_matrix\n",
    "from sklearn.model_selection import StratifiedKFold\n",
    "\n",
    "from tqdm.auto import tqdm\n",
    "from functools import partial\n",
    "\n",
    "import cv2\n",
    "from PIL import Image\n",
    "\n",
    "import cv2\n",
    "from PIL import Image\n",
    "\n",
    "import torch\n",
    "import torch.nn as nn\n",
    "import torch.nn.functional as F\n",
    "from torch.optim import Adam, SGD\n",
    "import torchvision.models as models\n",
    "from torch.nn.parameter import Parameter\n",
    "from torch.utils.data import DataLoader, Dataset\n",
    "from torch.optim.lr_scheduler import CosineAnnealingWarmRestarts\n",
    "\n",
    "import albumentations as A\n",
    "from albumentations.pytorch import ToTensorV2\n",
    "from albumentations import ImageOnlyTransform\n",
    "\n",
    "import timm\n",
    "\n",
    "import warnings \n",
    "warnings.filterwarnings('ignore')"
   ]
  },
  {
   "cell_type": "code",
   "execution_count": null,
   "metadata": {
    "execution": {
     "iopub.execute_input": "2021-06-03T13:18:28.992535Z",
     "iopub.status.busy": "2021-06-03T13:18:28.991939Z",
     "iopub.status.idle": "2021-06-03T13:18:28.998314Z",
     "shell.execute_reply": "2021-06-03T13:18:28.997883Z"
    },
    "papermill": {
     "duration": 0.028265,
     "end_time": "2021-06-03T13:18:28.998451",
     "exception": false,
     "start_time": "2021-06-03T13:18:28.970186",
     "status": "completed"
    },
    "tags": []
   },
   "outputs": [],
   "source": [
    "def get_score(y_true, y_pred):\n",
    "    return accuracy_score(y_true, y_pred)\n",
    "\n",
    "def get_confusion_matrix(y_true, y_pred):\n",
    "    return confusion_matrix(y_true, y_pred)\n",
    "\n",
    "@contextmanager\n",
    "def timer(name):\n",
    "    t0 = time.time()\n",
    "    LOGGER.info(f'[{name}] start')\n",
    "    yield\n",
    "    LOGGER.info(f'[{name}] done in {time.time() - t0:.0f} s.')\n",
    "\n",
    "\n",
    "def init_logger(log_file=OUTPUT_DIR+'train.log'):\n",
    "    from logging import getLogger, INFO, FileHandler,  Formatter,  StreamHandler\n",
    "    logger = getLogger(__name__)\n",
    "    logger.setLevel(INFO)\n",
    "    handler1 = StreamHandler()\n",
    "    handler1.setFormatter(Formatter(\"%(message)s\"))\n",
    "    handler2 = FileHandler(filename=log_file)\n",
    "    handler2.setFormatter(Formatter(\"%(message)s\"))\n",
    "    logger.addHandler(handler1)\n",
    "    logger.addHandler(handler2)\n",
    "    return logger\n",
    "\n",
    "LOGGER = init_logger()\n",
    "\n",
    "\n",
    "def seed_torch(seed=42):\n",
    "    random.seed(seed)\n",
    "    os.environ['PYTHONHASHSEED'] = str(seed)\n",
    "    np.random.seed(seed)\n",
    "    torch.manual_seed(seed)\n",
    "    torch.cuda.manual_seed(seed)\n",
    "    torch.backends.cudnn.deterministic = True\n",
    "\n",
    "seed_torch(seed=CFG.seed)"
   ]
  },
  {
   "cell_type": "code",
   "execution_count": null,
   "metadata": {
    "execution": {
     "iopub.execute_input": "2021-06-03T13:18:29.031990Z",
     "iopub.status.busy": "2021-06-03T13:18:29.031227Z",
     "iopub.status.idle": "2021-06-03T13:18:29.033990Z",
     "shell.execute_reply": "2021-06-03T13:18:29.033586Z"
    },
    "papermill": {
     "duration": 0.022696,
     "end_time": "2021-06-03T13:18:29.034100",
     "exception": false,
     "start_time": "2021-06-03T13:18:29.011404",
     "status": "completed"
    },
    "tags": []
   },
   "outputs": [],
   "source": [
    "class TrainDataset(Dataset):\n",
    "    def __init__(self, df, transform=None):\n",
    "        self.df = df\n",
    "        self.file_paths = df['filepath'].values\n",
    "        self.labels = df['hasbird'].values\n",
    "        self.transform = transform\n",
    "        \n",
    "    def __len__(self):\n",
    "        return len(self.df)\n",
    "\n",
    "    def __getitem__(self, idx):\n",
    "        file_name = self.file_paths[idx]\n",
    "        file_path = file_name\n",
    "        image = np.load(file_path)\n",
    "        image = image.transpose(1,2,0)\n",
    "        image = np.squeeze(image)\n",
    "        image = np.stack((image,)*3, -1)\n",
    "        if self.transform:\n",
    "            augmented = self.transform(image=image)\n",
    "            image = augmented['image']\n",
    "        label = torch.tensor(self.labels[idx]).long()\n",
    "        return image, label"
   ]
  },
  {
   "cell_type": "code",
   "execution_count": null,
   "metadata": {
    "execution": {
     "iopub.execute_input": "2021-06-03T13:18:29.065650Z",
     "iopub.status.busy": "2021-06-03T13:18:29.064968Z",
     "iopub.status.idle": "2021-06-03T13:18:29.067798Z",
     "shell.execute_reply": "2021-06-03T13:18:29.067278Z"
    },
    "papermill": {
     "duration": 0.021515,
     "end_time": "2021-06-03T13:18:29.067897",
     "exception": false,
     "start_time": "2021-06-03T13:18:29.046382",
     "status": "completed"
    },
    "tags": []
   },
   "outputs": [],
   "source": [
    "def get_transforms(*, data):\n",
    "    \n",
    "    if data == 'train':\n",
    "        return A.Compose([\n",
    "            A.Resize(CFG.dim[0], CFG.dim[1]),\n",
    "            A.HorizontalFlip(p=0.5),\n",
    "            A.VerticalFlip(p=0.5),\n",
    "            A.augmentations.transforms.JpegCompression(p=0.5),\n",
    "            A.augmentations.transforms.ImageCompression(p=0.5, compression_type=A.augmentations.transforms.ImageCompression.ImageCompressionType.WEBP),\n",
    "            A.Normalize(\n",
    "                mean=[0.485, 0.456, 0.406],\n",
    "                std=[0.229, 0.224, 0.225],\n",
    "            ),\n",
    "            ToTensorV2(),\n",
    "        ])\n",
    "\n",
    "    elif data == 'valid':\n",
    "        return A.Compose([\n",
    "            A.Resize(CFG.dim[0], CFG.dim[1]),\n",
    "            A.Normalize(\n",
    "                mean=[0.485, 0.456, 0.406],\n",
    "                std=[0.229, 0.224, 0.225],\n",
    "            ),\n",
    "            ToTensorV2(),\n",
    "        ])"
   ]
  },
  {
   "cell_type": "code",
   "execution_count": null,
   "id": "af7c554e",
   "metadata": {},
   "outputs": [],
   "source": [
    "class CustomResNext(nn.Module):\n",
    "    def __init__(self, model_name='resnext50_32x4d', pretrained=True):\n",
    "        super().__init__()\n",
    "        self.model = timm.create_model(model_name, pretrained=pretrained)\n",
    "        n_features = self.model.fc.in_features\n",
    "        self.model.fc = nn.Linear(n_features, CFG.target_size)\n",
    "\n",
    "    def forward(self, x):\n",
    "        x = self.model(x)\n",
    "        return x"
   ]
  },
  {
   "cell_type": "code",
   "execution_count": null,
   "id": "8a938703",
   "metadata": {},
   "outputs": [],
   "source": [
    "# Necessary imports\n",
    "\n",
    "import numpy as np\n",
    "import matplotlib.pyplot as plt\n",
    "\n",
    "from torch import Tensor\n",
    "from torch.nn import Linear, CrossEntropyLoss, MSELoss\n",
    "from torch.optim import LBFGS\n",
    "\n",
    "from qiskit import QuantumCircuit\n",
    "from qiskit.utils import algorithm_globals\n",
    "from qiskit.circuit import Parameter\n",
    "from qiskit.circuit.library import RealAmplitudes, ZZFeatureMap, ZFeatureMap, EfficientSU2\n",
    "from qiskit_machine_learning.neural_networks import SamplerQNN, EstimatorQNN\n",
    "from qiskit_machine_learning.connectors import TorchConnector\n",
    "\n",
    "# Set seed for random generators\n",
    "algorithm_globals.random_seed = 42\n",
    "\n",
    "# we decompose the circuit for the QNN to avoid additional data copying\n",
    "# Define and create QNN\n",
    "nq=1\n",
    "def create_qnn():\n",
    "    feature_map = ZFeatureMap(nq, reps=2)\n",
    "    ansatz = RealAmplitudes(nq, reps=1)\n",
    "    qc = QuantumCircuit(nq)\n",
    "    qc.compose(feature_map, inplace=True)\n",
    "    qc.compose(ansatz, inplace=True)\n",
    "\n",
    "    # REMEMBER TO SET input_gradients=True FOR ENABLING HYBRID GRADIENT BACKPROP\n",
    "    qnn = SamplerQNN(\n",
    "        circuit=qc,\n",
    "        input_params=feature_map.parameters,\n",
    "        weight_params=ansatz.parameters,\n",
    "        input_gradients=True,\n",
    "    )\n",
    "    return qnn\n",
    "\n",
    "\n",
    "qnn = create_qnn()"
   ]
  },
  {
   "cell_type": "code",
   "execution_count": null,
   "id": "59643d01",
   "metadata": {},
   "outputs": [],
   "source": [
    "from qiskit_machine_learning.connectors import TorchConnector\n",
    "from torch import cat, no_grad, manual_seed"
   ]
  },
  {
   "cell_type": "code",
   "execution_count": null,
   "id": "431e8931",
   "metadata": {},
   "outputs": [],
   "source": [
    "class QuantumCustomResNext(nn.Module):\n",
    "    def __init__(self):\n",
    "        super().__init__()\n",
    "        self.conv1 = Conv2d(1, 2, kernel_size=5)\n",
    "        self.conv2 = Conv2d(2, 16, kernel_size=5)\n",
    "        self.dropout = Dropout2d()\n",
    "        self.fc1 = Linear(256, 64)\n",
    "        self.fc2 = Linear(64, 2)  # 2-dimensional input to QNN\n",
    "        self.qnn = TorchConnector(qnn)  # Apply torch connector, weights chosen\n",
    "\n",
    "    def forward(self, x):\n",
    "        x = self.model(x)\n",
    "        x = self.fc(x)\n",
    "        x = self.qnn(x)\n",
    "        #x = self.fc2(x)\n",
    "        \n",
    "        return x"
   ]
  },
  {
   "cell_type": "code",
   "execution_count": null,
   "metadata": {
    "execution": {
     "iopub.execute_input": "2021-06-03T13:18:29.145766Z",
     "iopub.status.busy": "2021-06-03T13:18:29.144984Z",
     "iopub.status.idle": "2021-06-03T13:18:29.147597Z",
     "shell.execute_reply": "2021-06-03T13:18:29.147086Z"
    },
    "papermill": {
     "duration": 0.035666,
     "end_time": "2021-06-03T13:18:29.147696",
     "exception": false,
     "start_time": "2021-06-03T13:18:29.112030",
     "status": "completed"
    },
    "tags": []
   },
   "outputs": [],
   "source": [
    "class AverageMeter(object):\n",
    "    \"\"\"Computes and stores the average and current value\"\"\"\n",
    "    def __init__(self):\n",
    "        self.reset()\n",
    "\n",
    "    def reset(self):\n",
    "        self.val = 0\n",
    "        self.avg = 0\n",
    "        self.sum = 0\n",
    "        self.count = 0\n",
    "\n",
    "    def update(self, val, n=1):\n",
    "        self.val = val\n",
    "        self.sum += val * n\n",
    "        self.count += n\n",
    "        self.avg = self.sum / self.count\n",
    "\n",
    "\n",
    "def asMinutes(s):\n",
    "    m = math.floor(s / 60)\n",
    "    s -= m * 60\n",
    "    return '%dm %ds' % (m, s)\n",
    "\n",
    "def timeSince(since, percent):\n",
    "    now = time.time()\n",
    "    s = now - since\n",
    "    es = s / (percent)\n",
    "    rs = es - s\n",
    "    return '%s (remain %s)' % (asMinutes(s), asMinutes(rs))\n",
    "\n",
    "\n",
    "def train_fn(train_loader, model, criterion, optimizer, epoch, scheduler, device):\n",
    "    batch_time = AverageMeter()\n",
    "    data_time = AverageMeter()\n",
    "    losses = AverageMeter()\n",
    "    scores = AverageMeter()\n",
    "    # switch to train mode\n",
    "    model.train()\n",
    "    start = end = time.time()\n",
    "    global_step = 0\n",
    "    for step, (images, labels) in enumerate(train_loader):\n",
    "        # measure data loading time\n",
    "        data_time.update(time.time() - end)\n",
    "        images = images.to(device)\n",
    "        labels = labels.to(device)\n",
    "        batch_size = labels.size(0)\n",
    "        y_preds = model(images)\n",
    "        loss = criterion(y_preds, labels)\n",
    "        # record loss\n",
    "        losses.update(loss.item(), batch_size)\n",
    "        loss.backward()\n",
    "        grad_norm = torch.nn.utils.clip_grad_norm_(model.parameters(), CFG.max_grad_norm)\n",
    "        \n",
    "        optimizer.step()\n",
    "        optimizer.zero_grad()\n",
    "        global_step += 1\n",
    "        # measure elapsed time\n",
    "        batch_time.update(time.time() - end)\n",
    "        end = time.time()\n",
    "        if step % CFG.print_freq == 0 or step == (len(train_loader)-1):\n",
    "            print('Epoch: [{0}][{1}/{2}] '\n",
    "                  'Data {data_time.val:.3f} ({data_time.avg:.3f}) '\n",
    "                  'Elapsed {remain:s} '\n",
    "                  'Loss: {loss.val:.4f}({loss.avg:.4f}) '\n",
    "                  'Grad: {grad_norm:.4f}  '\n",
    "                  .format(\n",
    "                   epoch+1, step+1, len(train_loader), batch_time=batch_time,\n",
    "                   data_time=data_time, loss=losses,\n",
    "                   remain=timeSince(start, float(step+1)/len(train_loader)),\n",
    "                   grad_norm=grad_norm,\n",
    "                   ))\n",
    "    return losses.avg\n",
    "\n",
    "def valid_fn(valid_loader, model, criterion, device):\n",
    "    batch_time = AverageMeter()\n",
    "    data_time = AverageMeter()\n",
    "    losses = AverageMeter()\n",
    "    scores = AverageMeter()\n",
    "    # switch to evaluation mode\n",
    "    model.eval()\n",
    "    preds = []\n",
    "    start = end = time.time()\n",
    "    for step, (images, labels) in enumerate(valid_loader):\n",
    "        # measure data loading time\n",
    "        data_time.update(time.time() - end)\n",
    "        images = images.to(device)\n",
    "        labels = labels.to(device)\n",
    "        batch_size = labels.size(0)\n",
    "        # compute loss\n",
    "        with torch.no_grad():\n",
    "            y_preds = model(images)\n",
    "        loss = criterion(y_preds, labels)\n",
    "        losses.update(loss.item(), batch_size)\n",
    "        # record accuracy\n",
    "        preds.append(y_preds.softmax(1).to('cpu').numpy())\n",
    "        # measure elapsed time\n",
    "        batch_time.update(time.time() - end)\n",
    "        end = time.time()\n",
    "        if step % CFG.print_freq == 0 or step == (len(valid_loader)-1):\n",
    "            print('EVAL: [{0}/{1}] '\n",
    "                  'Data {data_time.val:.3f} ({data_time.avg:.3f}) '\n",
    "                  'Elapsed {remain:s} '\n",
    "                  'Loss: {loss.val:.4f}({loss.avg:.4f}) '\n",
    "                  .format(\n",
    "                   step+1, len(valid_loader), batch_time=batch_time,\n",
    "                   data_time=data_time, loss=losses,\n",
    "                   remain=timeSince(start, float(step+1)/len(valid_loader)),\n",
    "                   ))\n",
    "    predictions = np.concatenate(preds)\n",
    "    return losses.avg, predictions\n",
    "\n",
    "def inference(model, states, test_loader, device):\n",
    "    model.to(device)\n",
    "    tk0 = tqdm(enumerate(test_loader), total=len(test_loader))\n",
    "    probs = []\n",
    "    for i, (images) in tk0:\n",
    "        images = images.to(device)\n",
    "        avg_preds = []\n",
    "        for state in states:\n",
    "            model.load_state_dict(state['model'])\n",
    "            model.eval()\n",
    "            with torch.no_grad():\n",
    "                y_preds = model(images)\n",
    "            avg_preds.append(y_preds.softmax(1).to('cpu').numpy())\n",
    "        avg_preds = np.mean(avg_preds, axis=0)\n",
    "        probs.append(avg_preds)\n",
    "    probs = np.concatenate(probs)\n",
    "    return probs"
   ]
  },
  {
   "cell_type": "code",
   "execution_count": null,
   "metadata": {
    "execution": {
     "iopub.execute_input": "2021-06-03T13:18:29.187429Z",
     "iopub.status.busy": "2021-06-03T13:18:29.186604Z",
     "iopub.status.idle": "2021-06-03T13:18:29.189566Z",
     "shell.execute_reply": "2021-06-03T13:18:29.189044Z"
    },
    "papermill": {
     "duration": 0.029536,
     "end_time": "2021-06-03T13:18:29.189694",
     "exception": false,
     "start_time": "2021-06-03T13:18:29.160158",
     "status": "completed"
    },
    "tags": []
   },
   "outputs": [],
   "source": [
    "from torchsummary import summary\n",
    "\n",
    "def train_loop(train_folds, valid_folds):\n",
    "\n",
    "    LOGGER.info(f\"========== training ==========\")\n",
    "\n",
    "    # ====================================================\n",
    "    # loader\n",
    "    # ====================================================\n",
    "    train_dataset = TrainDataset(train_folds, \n",
    "                                 transform=get_transforms(data='train'))\n",
    "    valid_dataset = TrainDataset(valid_folds, \n",
    "                                 transform=get_transforms(data='valid'))\n",
    "\n",
    "    train_loader = DataLoader(train_dataset, \n",
    "                              batch_size=CFG.batch_size, \n",
    "                              shuffle=False, \n",
    "                              num_workers=CFG.num_workers, pin_memory=True, drop_last=True)\n",
    "    valid_loader = DataLoader(valid_dataset, \n",
    "                              batch_size=CFG.batch_size, \n",
    "                              shuffle=False, \n",
    "                              num_workers=CFG.num_workers, pin_memory=True, drop_last=False)\n",
    "    \n",
    "    def get_scheduler(optimizer):\n",
    "        scheduler = CosineAnnealingWarmRestarts(optimizer, T_0=CFG.T_0, T_mult=1, eta_min=CFG.min_lr, last_epoch=-1)\n",
    "        return scheduler\n",
    "\n",
    "    # ====================================================\n",
    "    # model & optimizer\n",
    "    # ====================================================\n",
    "    model = QuantumCustomResNext(CFG.model_name, pretrained=True)\n",
    "    #model = CustomResNext(CFG.model_name, pretrained=True)\n",
    "    model.to(CFG.device)\n",
    "    \n",
    "    optimizer = Adam(model.parameters(), lr=CFG.lr, weight_decay=CFG.weight_decay, amsgrad=False)\n",
    "    scheduler = get_scheduler(optimizer)\n",
    "\n",
    "    # ====================================================\n",
    "    # loop\n",
    "    # ====================================================\n",
    "    #criterion = nn.CrossEntropyLoss()\n",
    "    criterion = nn.NLLLoss()\n",
    "    best_score = 0.\n",
    "    best_loss = np.inf\n",
    "    \n",
    "    summary(model, (3, 128, 128))\n",
    "    \n",
    "    scores = []\n",
    "    \n",
    "    for epoch in range(CFG.epochs):\n",
    "        \n",
    "        start_time = time.time()\n",
    "        \n",
    "        # train\n",
    "        avg_loss = train_fn(train_loader, model, criterion, optimizer, epoch, scheduler, CFG.device)\n",
    "        \n",
    "        # eval\n",
    "        avg_val_loss, preds = valid_fn(valid_loader, model, criterion, CFG.device)\n",
    "        valid_labels = valid_folds[CFG.target_col].values\n",
    "        \n",
    "        scheduler.step()\n",
    "\n",
    "        # scoring\n",
    "        score = get_score(valid_labels, preds.argmax(1))\n",
    "\n",
    "        elapsed = time.time() - start_time\n",
    "\n",
    "        LOGGER.info(f'Epoch {epoch+1} - avg_train_loss: {avg_loss:.4f}  avg_val_loss: {avg_val_loss:.4f}  time: {elapsed:.0f}s')\n",
    "        LOGGER.info(f'Epoch {epoch+1} - Accuracy: {score}')\n",
    "        \n",
    "        scores.append(score)\n",
    "        \n",
    "        if score > best_score:\n",
    "            best_score = score\n",
    "            LOGGER.info(f'Epoch {epoch+1} - Save Best Score: {best_score:.4f} Model')\n",
    "            torch.save({'model': model.state_dict(), \n",
    "                        'preds': preds},\n",
    "                        OUTPUT_DIR+f'{CFG.model_name}_best.pth')\n",
    "    \n",
    "    check_point = torch.load(OUTPUT_DIR+f'{CFG.model_name}_best.pth')\n",
    "    valid_folds[[str(c) for c in range(CFG.target_size)]] = check_point['preds']\n",
    "    valid_folds['preds'] = check_point['preds'].argmax(1)\n",
    "\n",
    "    return valid_folds, scores"
   ]
  },
  {
   "cell_type": "code",
   "execution_count": null,
   "metadata": {
    "execution": {
     "iopub.execute_input": "2021-06-03T13:18:29.221823Z",
     "iopub.status.busy": "2021-06-03T13:18:29.221144Z",
     "iopub.status.idle": "2021-06-03T13:18:29.223394Z",
     "shell.execute_reply": "2021-06-03T13:18:29.223813Z"
    },
    "papermill": {
     "duration": 0.022003,
     "end_time": "2021-06-03T13:18:29.223933",
     "exception": false,
     "start_time": "2021-06-03T13:18:29.201930",
     "status": "completed"
    },
    "tags": []
   },
   "outputs": [],
   "source": [
    "def main(fold):\n",
    "    def get_result(result_df):\n",
    "        preds = result_df['preds'].values\n",
    "        labels = result_df[CFG.target_col].values\n",
    "        score = get_score(labels, preds)\n",
    "        LOGGER.info(f'Score: {score:<.5f}')\n",
    "    \n",
    "    def get_result2(result_df):\n",
    "        preds = result_df['preds'].values\n",
    "        labels = result_df[CFG.target_col].values\n",
    "        matrix = get_confusion_matrix(labels, preds)\n",
    "        print('TN', matrix[0,0])\n",
    "        print('FP', matrix[0,1])\n",
    "        print('FN', matrix[1,0])\n",
    "        print('TP', matrix[1,1])\n",
    "    \n",
    "    # train \n",
    "    train_folds = folds.query(f'fold!={fold}').reset_index(drop=True)\n",
    "    valid_folds = folds.query(f'fold=={fold}').reset_index(drop=False)\n",
    "    oof_df, scores = train_loop(train_folds, valid_folds)\n",
    "    # CV result\n",
    "    LOGGER.info(f\"========== CV ==========\")\n",
    "    get_result(oof_df)\n",
    "    get_result2(oof_df)\n",
    "    # save result\n",
    "    oof_df.to_csv(OUTPUT_DIR+'oof_df.csv', index=False)\n",
    "    plt.plot([i for i in range(CFG.epochs)], scores)\n",
    "    plt.title('valid score')\n",
    "    plt.show()"
   ]
  },
  {
   "cell_type": "code",
   "execution_count": null,
   "metadata": {
    "execution": {
     "iopub.execute_input": "2021-06-03T13:18:29.255472Z",
     "iopub.status.busy": "2021-06-03T13:18:29.254659Z",
     "iopub.status.idle": "2021-06-03T13:33:30.200216Z",
     "shell.execute_reply": "2021-06-03T13:33:30.199729Z"
    },
    "papermill": {
     "duration": 900.96416,
     "end_time": "2021-06-03T13:33:30.200354",
     "exception": false,
     "start_time": "2021-06-03T13:18:29.236194",
     "status": "completed"
    },
    "tags": []
   },
   "outputs": [
    {
     "name": "stderr",
     "output_type": "stream",
     "text": [
      "========== training ==========\n"
     ]
    },
    {
     "name": "stdout",
     "output_type": "stream",
     "text": [
      "----------------------------------------------------------------\n",
      "        Layer (type)               Output Shape         Param #\n",
      "================================================================\n",
      "            Conv2d-1           [-1, 64, 64, 64]           9,408\n",
      "       BatchNorm2d-2           [-1, 64, 64, 64]             128\n",
      "              ReLU-3           [-1, 64, 64, 64]               0\n",
      "         MaxPool2d-4           [-1, 64, 32, 32]               0\n",
      "            Conv2d-5          [-1, 128, 32, 32]           8,192\n",
      "       BatchNorm2d-6          [-1, 128, 32, 32]             256\n",
      "              ReLU-7          [-1, 128, 32, 32]               0\n",
      "            Conv2d-8          [-1, 128, 32, 32]           4,608\n",
      "       BatchNorm2d-9          [-1, 128, 32, 32]             256\n",
      "         Identity-10          [-1, 128, 32, 32]               0\n",
      "             ReLU-11          [-1, 128, 32, 32]               0\n",
      "         Identity-12          [-1, 128, 32, 32]               0\n",
      "           Conv2d-13          [-1, 256, 32, 32]          32,768\n",
      "      BatchNorm2d-14          [-1, 256, 32, 32]             512\n",
      "           Conv2d-15          [-1, 256, 32, 32]          16,384\n",
      "      BatchNorm2d-16          [-1, 256, 32, 32]             512\n",
      "             ReLU-17          [-1, 256, 32, 32]               0\n",
      "       Bottleneck-18          [-1, 256, 32, 32]               0\n",
      "           Conv2d-19          [-1, 128, 32, 32]          32,768\n",
      "      BatchNorm2d-20          [-1, 128, 32, 32]             256\n",
      "             ReLU-21          [-1, 128, 32, 32]               0\n",
      "           Conv2d-22          [-1, 128, 32, 32]           4,608\n",
      "      BatchNorm2d-23          [-1, 128, 32, 32]             256\n",
      "         Identity-24          [-1, 128, 32, 32]               0\n",
      "             ReLU-25          [-1, 128, 32, 32]               0\n",
      "         Identity-26          [-1, 128, 32, 32]               0\n",
      "           Conv2d-27          [-1, 256, 32, 32]          32,768\n",
      "      BatchNorm2d-28          [-1, 256, 32, 32]             512\n",
      "             ReLU-29          [-1, 256, 32, 32]               0\n",
      "       Bottleneck-30          [-1, 256, 32, 32]               0\n",
      "           Conv2d-31          [-1, 128, 32, 32]          32,768\n",
      "      BatchNorm2d-32          [-1, 128, 32, 32]             256\n",
      "             ReLU-33          [-1, 128, 32, 32]               0\n",
      "           Conv2d-34          [-1, 128, 32, 32]           4,608\n",
      "      BatchNorm2d-35          [-1, 128, 32, 32]             256\n",
      "         Identity-36          [-1, 128, 32, 32]               0\n",
      "             ReLU-37          [-1, 128, 32, 32]               0\n",
      "         Identity-38          [-1, 128, 32, 32]               0\n",
      "           Conv2d-39          [-1, 256, 32, 32]          32,768\n",
      "      BatchNorm2d-40          [-1, 256, 32, 32]             512\n",
      "             ReLU-41          [-1, 256, 32, 32]               0\n",
      "       Bottleneck-42          [-1, 256, 32, 32]               0\n",
      "           Conv2d-43          [-1, 256, 32, 32]          65,536\n",
      "      BatchNorm2d-44          [-1, 256, 32, 32]             512\n",
      "             ReLU-45          [-1, 256, 32, 32]               0\n",
      "           Conv2d-46          [-1, 256, 16, 16]          18,432\n",
      "      BatchNorm2d-47          [-1, 256, 16, 16]             512\n",
      "         Identity-48          [-1, 256, 16, 16]               0\n",
      "             ReLU-49          [-1, 256, 16, 16]               0\n",
      "         Identity-50          [-1, 256, 16, 16]               0\n",
      "           Conv2d-51          [-1, 512, 16, 16]         131,072\n",
      "      BatchNorm2d-52          [-1, 512, 16, 16]           1,024\n",
      "           Conv2d-53          [-1, 512, 16, 16]         131,072\n",
      "      BatchNorm2d-54          [-1, 512, 16, 16]           1,024\n",
      "             ReLU-55          [-1, 512, 16, 16]               0\n",
      "       Bottleneck-56          [-1, 512, 16, 16]               0\n",
      "           Conv2d-57          [-1, 256, 16, 16]         131,072\n",
      "      BatchNorm2d-58          [-1, 256, 16, 16]             512\n",
      "             ReLU-59          [-1, 256, 16, 16]               0\n",
      "           Conv2d-60          [-1, 256, 16, 16]          18,432\n",
      "      BatchNorm2d-61          [-1, 256, 16, 16]             512\n",
      "         Identity-62          [-1, 256, 16, 16]               0\n",
      "             ReLU-63          [-1, 256, 16, 16]               0\n",
      "         Identity-64          [-1, 256, 16, 16]               0\n",
      "           Conv2d-65          [-1, 512, 16, 16]         131,072\n",
      "      BatchNorm2d-66          [-1, 512, 16, 16]           1,024\n",
      "             ReLU-67          [-1, 512, 16, 16]               0\n",
      "       Bottleneck-68          [-1, 512, 16, 16]               0\n",
      "           Conv2d-69          [-1, 256, 16, 16]         131,072\n",
      "      BatchNorm2d-70          [-1, 256, 16, 16]             512\n",
      "             ReLU-71          [-1, 256, 16, 16]               0\n",
      "           Conv2d-72          [-1, 256, 16, 16]          18,432\n",
      "      BatchNorm2d-73          [-1, 256, 16, 16]             512\n",
      "         Identity-74          [-1, 256, 16, 16]               0\n",
      "             ReLU-75          [-1, 256, 16, 16]               0\n",
      "         Identity-76          [-1, 256, 16, 16]               0\n",
      "           Conv2d-77          [-1, 512, 16, 16]         131,072\n",
      "      BatchNorm2d-78          [-1, 512, 16, 16]           1,024\n",
      "             ReLU-79          [-1, 512, 16, 16]               0\n",
      "       Bottleneck-80          [-1, 512, 16, 16]               0\n",
      "           Conv2d-81          [-1, 256, 16, 16]         131,072\n",
      "      BatchNorm2d-82          [-1, 256, 16, 16]             512\n",
      "             ReLU-83          [-1, 256, 16, 16]               0\n",
      "           Conv2d-84          [-1, 256, 16, 16]          18,432\n",
      "      BatchNorm2d-85          [-1, 256, 16, 16]             512\n",
      "         Identity-86          [-1, 256, 16, 16]               0\n",
      "             ReLU-87          [-1, 256, 16, 16]               0\n",
      "         Identity-88          [-1, 256, 16, 16]               0\n",
      "           Conv2d-89          [-1, 512, 16, 16]         131,072\n",
      "      BatchNorm2d-90          [-1, 512, 16, 16]           1,024\n",
      "             ReLU-91          [-1, 512, 16, 16]               0\n",
      "       Bottleneck-92          [-1, 512, 16, 16]               0\n",
      "         Identity-93          [-1, 512, 16, 16]               0\n",
      "         Identity-94          [-1, 512, 16, 16]               0\n",
      "AdaptiveAvgPool2d-95            [-1, 512, 1, 1]               0\n",
      "          Flatten-96                  [-1, 512]               0\n",
      "SelectAdaptivePool2d-97                  [-1, 512]               0\n",
      "         Identity-98                  [-1, 512]               0\n",
      "           ResNet-99                  [-1, 512]               0\n",
      "          Linear-100                    [-1, 1]             513\n",
      "  TorchConnector-101                    [-1, 2]               2\n",
      "================================================================\n",
      "Total params: 1,412,931\n",
      "Trainable params: 1,412,931\n",
      "Non-trainable params: 0\n",
      "----------------------------------------------------------------\n",
      "Input size (MB): 0.19\n",
      "Forward/backward pass size (MB): 99.02\n",
      "Params size (MB): 5.39\n",
      "Estimated Total Size (MB): 104.60\n",
      "----------------------------------------------------------------\n",
      "Epoch: [1][1/192] Data 0.361 (0.361) Elapsed 0m 1s (remain 3m 20s) Loss: -0.7098(-0.7098) Grad: 30.1922  \n",
      "Epoch: [1][101/192] Data 0.000 (0.004) Elapsed 0m 23s (remain 0m 20s) Loss: -0.8144(-0.7136) Grad: 5.2980  \n",
      "Epoch: [1][192/192] Data 0.000 (0.002) Elapsed 0m 43s (remain 0m 0s) Loss: -0.7201(-0.7365) Grad: 6.2930  \n",
      "EVAL: [1/49] Data 0.103 (0.103) Elapsed 0m 0s (remain 0m 7s) Loss: -0.7666(-0.7666) \n"
     ]
    },
    {
     "name": "stderr",
     "output_type": "stream",
     "text": [
      "Epoch 1 - avg_train_loss: -0.7365  avg_val_loss: -0.7787  time: 46s\n",
      "Epoch 1 - Accuracy: 0.8335500650195059\n",
      "Epoch 1 - Save Best Score: 0.8336 Model\n"
     ]
    },
    {
     "name": "stdout",
     "output_type": "stream",
     "text": [
      "EVAL: [49/49] Data 0.000 (0.002) Elapsed 0m 2s (remain 0m 0s) Loss: -0.5838(-0.7787) \n",
      "Epoch: [2][1/192] Data 0.431 (0.431) Elapsed 0m 0s (remain 2m 35s) Loss: -0.7774(-0.7774) Grad: 20.2314  \n",
      "Epoch: [2][101/192] Data 0.000 (0.005) Elapsed 0m 22s (remain 0m 20s) Loss: -0.8771(-0.7877) Grad: 7.3997  \n",
      "Epoch: [2][192/192] Data 0.000 (0.002) Elapsed 0m 42s (remain 0m 0s) Loss: -0.7525(-0.7956) Grad: 6.2930  \n",
      "EVAL: [1/49] Data 0.111 (0.111) Elapsed 0m 0s (remain 0m 8s) Loss: -0.7967(-0.7967) \n"
     ]
    },
    {
     "name": "stderr",
     "output_type": "stream",
     "text": [
      "Epoch 2 - avg_train_loss: -0.7956  avg_val_loss: -0.8067  time: 45s\n",
      "Epoch 2 - Accuracy: 0.8478543563068921\n",
      "Epoch 2 - Save Best Score: 0.8479 Model\n"
     ]
    },
    {
     "name": "stdout",
     "output_type": "stream",
     "text": [
      "EVAL: [49/49] Data 0.000 (0.003) Elapsed 0m 2s (remain 0m 0s) Loss: -0.5801(-0.8067) \n",
      "Epoch: [3][1/192] Data 0.232 (0.232) Elapsed 0m 0s (remain 1m 51s) Loss: -0.8212(-0.8212) Grad: 21.0660  \n",
      "Epoch: [3][101/192] Data 0.000 (0.003) Elapsed 0m 21s (remain 0m 19s) Loss: -0.8960(-0.8149) Grad: 4.1817  \n",
      "Epoch: [3][192/192] Data 0.000 (0.001) Elapsed 0m 41s (remain 0m 0s) Loss: -0.7591(-0.8186) Grad: 4.2191  \n",
      "EVAL: [1/49] Data 0.127 (0.127) Elapsed 0m 0s (remain 0m 9s) Loss: -0.8100(-0.8100) \n"
     ]
    },
    {
     "name": "stderr",
     "output_type": "stream",
     "text": [
      "Epoch 3 - avg_train_loss: -0.8186  avg_val_loss: -0.8236  time: 45s\n",
      "Epoch 3 - Accuracy: 0.8608582574772432\n",
      "Epoch 3 - Save Best Score: 0.8609 Model\n"
     ]
    },
    {
     "name": "stdout",
     "output_type": "stream",
     "text": [
      "EVAL: [49/49] Data 0.000 (0.003) Elapsed 0m 3s (remain 0m 0s) Loss: -0.5765(-0.8236) \n",
      "Epoch: [4][1/192] Data 0.296 (0.296) Elapsed 0m 0s (remain 1m 55s) Loss: -0.8443(-0.8443) Grad: 20.6153  \n",
      "Epoch: [4][101/192] Data 0.001 (0.003) Elapsed 0m 23s (remain 0m 21s) Loss: -0.8976(-0.8259) Grad: 13.8209  \n",
      "Epoch: [4][192/192] Data 0.000 (0.002) Elapsed 0m 44s (remain 0m 0s) Loss: -0.7675(-0.8294) Grad: 7.2947  \n",
      "EVAL: [1/49] Data 0.119 (0.119) Elapsed 0m 0s (remain 0m 9s) Loss: -0.8156(-0.8156) \n"
     ]
    },
    {
     "name": "stderr",
     "output_type": "stream",
     "text": [
      "Epoch 4 - avg_train_loss: -0.8294  avg_val_loss: -0.8214  time: 48s\n",
      "Epoch 4 - Accuracy: 0.8615084525357607\n",
      "Epoch 4 - Save Best Score: 0.8615 Model\n"
     ]
    },
    {
     "name": "stdout",
     "output_type": "stream",
     "text": [
      "EVAL: [49/49] Data 0.000 (0.003) Elapsed 0m 2s (remain 0m 0s) Loss: -0.6166(-0.8214) \n",
      "Epoch: [5][1/192] Data 0.320 (0.320) Elapsed 0m 0s (remain 2m 4s) Loss: -0.8506(-0.8506) Grad: 21.9507  \n",
      "Epoch: [5][101/192] Data 0.000 (0.003) Elapsed 0m 24s (remain 0m 22s) Loss: -0.9080(-0.8361) Grad: 13.7824  \n",
      "Epoch: [5][192/192] Data 0.000 (0.002) Elapsed 0m 46s (remain 0m 0s) Loss: -0.7651(-0.8399) Grad: 2.4369  \n",
      "EVAL: [1/49] Data 0.144 (0.144) Elapsed 0m 0s (remain 0m 10s) Loss: -0.8323(-0.8323) \n"
     ]
    },
    {
     "name": "stderr",
     "output_type": "stream",
     "text": [
      "Epoch 5 - avg_train_loss: -0.8399  avg_val_loss: -0.8306  time: 49s\n",
      "Epoch 5 - Accuracy: 0.8673602080624188\n",
      "Epoch 5 - Save Best Score: 0.8674 Model\n"
     ]
    },
    {
     "name": "stdout",
     "output_type": "stream",
     "text": [
      "EVAL: [49/49] Data 0.000 (0.003) Elapsed 0m 2s (remain 0m 0s) Loss: -0.5903(-0.8306) \n",
      "Epoch: [6][1/192] Data 0.328 (0.328) Elapsed 0m 0s (remain 2m 12s) Loss: -0.8504(-0.8504) Grad: 24.3119  \n",
      "Epoch: [6][101/192] Data 0.000 (0.003) Elapsed 0m 24s (remain 0m 22s) Loss: -0.8960(-0.8425) Grad: 16.2098  \n",
      "Epoch: [6][192/192] Data 0.000 (0.002) Elapsed 0m 46s (remain 0m 0s) Loss: -0.7649(-0.8461) Grad: 2.1695  \n",
      "EVAL: [1/49] Data 0.111 (0.111) Elapsed 0m 0s (remain 0m 8s) Loss: -0.8240(-0.8240) \n"
     ]
    },
    {
     "name": "stderr",
     "output_type": "stream",
     "text": [
      "Epoch 6 - avg_train_loss: -0.8461  avg_val_loss: -0.8367  time: 50s\n",
      "Epoch 6 - Accuracy: 0.8725617685305592\n",
      "Epoch 6 - Save Best Score: 0.8726 Model\n"
     ]
    },
    {
     "name": "stdout",
     "output_type": "stream",
     "text": [
      "EVAL: [49/49] Data 0.000 (0.003) Elapsed 0m 2s (remain 0m 0s) Loss: -0.5903(-0.8367) \n",
      "Epoch: [7][1/192] Data 0.260 (0.260) Elapsed 0m 0s (remain 1m 37s) Loss: -0.8807(-0.8807) Grad: 20.1816  \n",
      "Epoch: [7][101/192] Data 0.000 (0.003) Elapsed 0m 24s (remain 0m 22s) Loss: -0.8938(-0.8507) Grad: 9.4757  \n",
      "Epoch: [7][192/192] Data 0.000 (0.002) Elapsed 0m 46s (remain 0m 0s) Loss: -0.7690(-0.8541) Grad: 2.2076  \n",
      "EVAL: [1/49] Data 0.122 (0.122) Elapsed 0m 0s (remain 0m 9s) Loss: -0.8379(-0.8379) \n"
     ]
    },
    {
     "name": "stderr",
     "output_type": "stream",
     "text": [
      "Epoch 7 - avg_train_loss: -0.8541  avg_val_loss: -0.8395  time: 49s\n",
      "Epoch 7 - Accuracy: 0.8771131339401821\n",
      "Epoch 7 - Save Best Score: 0.8771 Model\n"
     ]
    },
    {
     "name": "stdout",
     "output_type": "stream",
     "text": [
      "EVAL: [49/49] Data 0.000 (0.003) Elapsed 0m 2s (remain 0m 0s) Loss: -0.6366(-0.8395) \n",
      "Epoch: [8][1/192] Data 0.327 (0.327) Elapsed 0m 0s (remain 2m 0s) Loss: -0.8913(-0.8913) Grad: 18.0141  \n",
      "Epoch: [8][101/192] Data 0.000 (0.003) Elapsed 0m 26s (remain 0m 23s) Loss: -0.9005(-0.8556) Grad: 11.2670  \n",
      "Epoch: [8][192/192] Data 0.000 (0.002) Elapsed 0m 49s (remain 0m 0s) Loss: -0.7827(-0.8587) Grad: 2.0695  \n",
      "EVAL: [1/49] Data 0.120 (0.120) Elapsed 0m 0s (remain 0m 9s) Loss: -0.8404(-0.8404) \n"
     ]
    },
    {
     "name": "stderr",
     "output_type": "stream",
     "text": [
      "Epoch 8 - avg_train_loss: -0.8587  avg_val_loss: -0.8436  time: 52s\n",
      "Epoch 8 - Accuracy: 0.8771131339401821\n"
     ]
    },
    {
     "name": "stdout",
     "output_type": "stream",
     "text": [
      "EVAL: [49/49] Data 0.000 (0.003) Elapsed 0m 3s (remain 0m 0s) Loss: -0.6275(-0.8436) \n",
      "Epoch: [9][1/192] Data 0.297 (0.297) Elapsed 0m 0s (remain 2m 5s) Loss: -0.8658(-0.8658) Grad: 21.9563  \n",
      "Epoch: [9][101/192] Data 0.000 (0.003) Elapsed 0m 30s (remain 0m 27s) Loss: -0.9035(-0.8583) Grad: 13.7532  \n",
      "Epoch: [9][192/192] Data 0.000 (0.002) Elapsed 0m 57s (remain 0m 0s) Loss: -0.7839(-0.8620) Grad: 6.4165  \n",
      "EVAL: [1/49] Data 0.163 (0.163) Elapsed 0m 0s (remain 0m 12s) Loss: -0.8493(-0.8493) \n"
     ]
    },
    {
     "name": "stderr",
     "output_type": "stream",
     "text": [
      "Epoch 9 - avg_train_loss: -0.8620  avg_val_loss: -0.8452  time: 61s\n",
      "Epoch 9 - Accuracy: 0.8745123537061118\n"
     ]
    },
    {
     "name": "stdout",
     "output_type": "stream",
     "text": [
      "EVAL: [49/49] Data 0.000 (0.004) Elapsed 0m 3s (remain 0m 0s) Loss: -0.5978(-0.8452) \n",
      "Epoch: [10][1/192] Data 0.404 (0.404) Elapsed 0m 0s (remain 2m 34s) Loss: -0.8956(-0.8956) Grad: 16.9309  \n",
      "Epoch: [10][101/192] Data 0.000 (0.004) Elapsed 0m 29s (remain 0m 26s) Loss: -0.9142(-0.8592) Grad: 10.5544  \n",
      "Epoch: [10][192/192] Data 0.000 (0.002) Elapsed 0m 51s (remain 0m 0s) Loss: -0.7837(-0.8627) Grad: 3.4839  \n",
      "EVAL: [1/49] Data 0.120 (0.120) Elapsed 0m 0s (remain 0m 8s) Loss: -0.8507(-0.8507) \n"
     ]
    },
    {
     "name": "stderr",
     "output_type": "stream",
     "text": [
      "Epoch 10 - avg_train_loss: -0.8627  avg_val_loss: -0.8453  time: 54s\n",
      "Epoch 10 - Accuracy: 0.8797139141742523\n",
      "Epoch 10 - Save Best Score: 0.8797 Model\n"
     ]
    },
    {
     "name": "stdout",
     "output_type": "stream",
     "text": [
      "EVAL: [49/49] Data 0.000 (0.003) Elapsed 0m 2s (remain 0m 0s) Loss: -0.6002(-0.8453) \n",
      "Epoch: [11][1/192] Data 0.357 (0.357) Elapsed 0m 0s (remain 2m 18s) Loss: -0.8971(-0.8971) Grad: 13.2976  \n",
      "Epoch: [11][101/192] Data 0.000 (0.004) Elapsed 0m 22s (remain 0m 20s) Loss: -0.9251(-0.8539) Grad: 7.4028  \n",
      "Epoch: [11][192/192] Data 0.000 (0.002) Elapsed 0m 41s (remain 0m 0s) Loss: -0.7793(-0.8544) Grad: 2.2012  \n",
      "EVAL: [1/49] Data 0.121 (0.121) Elapsed 0m 0s (remain 0m 9s) Loss: -0.8355(-0.8355) \n"
     ]
    },
    {
     "name": "stderr",
     "output_type": "stream",
     "text": [
      "Epoch 11 - avg_train_loss: -0.8544  avg_val_loss: -0.8354  time: 45s\n",
      "Epoch 11 - Accuracy: 0.8719115734720416\n"
     ]
    },
    {
     "name": "stdout",
     "output_type": "stream",
     "text": [
      "EVAL: [49/49] Data 0.000 (0.003) Elapsed 0m 2s (remain 0m 0s) Loss: -0.7108(-0.8354) \n",
      "Epoch: [12][1/192] Data 0.296 (0.296) Elapsed 0m 0s (remain 2m 32s) Loss: -0.8720(-0.8720) Grad: 23.1119  \n",
      "Epoch: [12][101/192] Data 0.000 (0.003) Elapsed 0m 23s (remain 0m 21s) Loss: -0.8983(-0.8556) Grad: 8.3964  \n",
      "Epoch: [12][192/192] Data 0.000 (0.002) Elapsed 0m 44s (remain 0m 0s) Loss: -0.7898(-0.8599) Grad: 6.0960  \n",
      "EVAL: [1/49] Data 0.126 (0.126) Elapsed 0m 0s (remain 0m 10s) Loss: -0.8195(-0.8195) \n"
     ]
    },
    {
     "name": "stderr",
     "output_type": "stream",
     "text": [
      "Epoch 12 - avg_train_loss: -0.8599  avg_val_loss: -0.8398  time: 47s\n",
      "Epoch 12 - Accuracy: 0.8758127438231469\n"
     ]
    },
    {
     "name": "stdout",
     "output_type": "stream",
     "text": [
      "EVAL: [49/49] Data 0.000 (0.003) Elapsed 0m 2s (remain 0m 0s) Loss: -0.7166(-0.8398) \n",
      "Epoch: [13][1/192] Data 0.296 (0.296) Elapsed 0m 0s (remain 1m 57s) Loss: -0.9149(-0.9149) Grad: 10.5423  \n",
      "Epoch: [13][101/192] Data 0.000 (0.003) Elapsed 0m 22s (remain 0m 20s) Loss: -0.9031(-0.8667) Grad: 11.5473  \n",
      "Epoch: [13][192/192] Data 0.000 (0.002) Elapsed 0m 41s (remain 0m 0s) Loss: -0.7879(-0.8702) Grad: 3.3170  \n",
      "EVAL: [1/49] Data 0.145 (0.145) Elapsed 0m 0s (remain 0m 10s) Loss: -0.8316(-0.8316) \n"
     ]
    },
    {
     "name": "stderr",
     "output_type": "stream",
     "text": [
      "Epoch 13 - avg_train_loss: -0.8702  avg_val_loss: -0.8517  time: 45s\n",
      "Epoch 13 - Accuracy: 0.8842652795838751\n",
      "Epoch 13 - Save Best Score: 0.8843 Model\n"
     ]
    },
    {
     "name": "stdout",
     "output_type": "stream",
     "text": [
      "EVAL: [49/49] Data 0.000 (0.003) Elapsed 0m 2s (remain 0m 0s) Loss: -0.7843(-0.8517) \n",
      "Epoch: [14][1/192] Data 0.303 (0.303) Elapsed 0m 0s (remain 2m 4s) Loss: -0.9095(-0.9095) Grad: 12.9018  \n",
      "Epoch: [14][101/192] Data 0.000 (0.003) Elapsed 0m 24s (remain 0m 22s) Loss: -0.9178(-0.8741) Grad: 13.5885  \n",
      "Epoch: [14][192/192] Data 0.000 (0.002) Elapsed 0m 44s (remain 0m 0s) Loss: -0.7971(-0.8761) Grad: 7.4924  \n",
      "EVAL: [1/49] Data 0.114 (0.114) Elapsed 0m 0s (remain 0m 9s) Loss: -0.8198(-0.8198) \n"
     ]
    },
    {
     "name": "stderr",
     "output_type": "stream",
     "text": [
      "Epoch 14 - avg_train_loss: -0.8761  avg_val_loss: -0.8437  time: 48s\n",
      "Epoch 14 - Accuracy: 0.88296488946684\n"
     ]
    },
    {
     "name": "stdout",
     "output_type": "stream",
     "text": [
      "EVAL: [49/49] Data 0.000 (0.003) Elapsed 0m 3s (remain 0m 0s) Loss: -0.8067(-0.8437) \n",
      "Epoch: [15][1/192] Data 0.362 (0.362) Elapsed 0m 0s (remain 2m 6s) Loss: -0.9120(-0.9120) Grad: 9.9840  \n",
      "Epoch: [15][101/192] Data 0.000 (0.004) Elapsed 0m 23s (remain 0m 21s) Loss: -0.8906(-0.8788) Grad: 19.1409  \n",
      "Epoch: [15][192/192] Data 0.000 (0.002) Elapsed 0m 45s (remain 0m 0s) Loss: -0.8073(-0.8822) Grad: 2.3226  \n",
      "EVAL: [1/49] Data 0.146 (0.146) Elapsed 0m 0s (remain 0m 10s) Loss: -0.8192(-0.8192) \n"
     ]
    },
    {
     "name": "stderr",
     "output_type": "stream",
     "text": [
      "Epoch 15 - avg_train_loss: -0.8822  avg_val_loss: -0.8491  time: 48s\n",
      "Epoch 15 - Accuracy: 0.8875162548764629\n",
      "Epoch 15 - Save Best Score: 0.8875 Model\n"
     ]
    },
    {
     "name": "stdout",
     "output_type": "stream",
     "text": [
      "EVAL: [49/49] Data 0.000 (0.003) Elapsed 0m 2s (remain 0m 0s) Loss: -0.7666(-0.8491) \n",
      "Epoch: [16][1/192] Data 0.265 (0.265) Elapsed 0m 0s (remain 2m 24s) Loss: -0.9362(-0.9362) Grad: 15.0934  \n",
      "Epoch: [16][101/192] Data 0.000 (0.003) Elapsed 0m 24s (remain 0m 22s) Loss: -0.9193(-0.8842) Grad: 11.4318  \n",
      "Epoch: [16][192/192] Data 0.000 (0.002) Elapsed 0m 46s (remain 0m 0s) Loss: -0.8059(-0.8880) Grad: 3.0828  \n",
      "EVAL: [1/49] Data 0.142 (0.142) Elapsed 0m 0s (remain 0m 10s) Loss: -0.8196(-0.8196) \n"
     ]
    },
    {
     "name": "stderr",
     "output_type": "stream",
     "text": [
      "Epoch 16 - avg_train_loss: -0.8880  avg_val_loss: -0.8474  time: 49s\n",
      "Epoch 16 - Accuracy: 0.8920676202860858\n",
      "Epoch 16 - Save Best Score: 0.8921 Model\n"
     ]
    },
    {
     "name": "stdout",
     "output_type": "stream",
     "text": [
      "EVAL: [49/49] Data 0.000 (0.003) Elapsed 0m 2s (remain 0m 0s) Loss: -0.8202(-0.8474) \n",
      "Epoch: [17][1/192] Data 0.268 (0.268) Elapsed 0m 0s (remain 2m 5s) Loss: -0.8925(-0.8925) Grad: 20.7838  \n",
      "Epoch: [17][101/192] Data 0.000 (0.003) Elapsed 0m 25s (remain 0m 23s) Loss: -0.9171(-0.8887) Grad: 13.8605  \n",
      "Epoch: [17][192/192] Data 0.000 (0.002) Elapsed 0m 47s (remain 0m 0s) Loss: -0.8211(-0.8931) Grad: 2.4256  \n",
      "EVAL: [1/49] Data 0.140 (0.140) Elapsed 0m 0s (remain 0m 10s) Loss: -0.8506(-0.8506) \n"
     ]
    },
    {
     "name": "stderr",
     "output_type": "stream",
     "text": [
      "Epoch 17 - avg_train_loss: -0.8931  avg_val_loss: -0.8604  time: 51s\n",
      "Epoch 17 - Accuracy: 0.8920676202860858\n"
     ]
    },
    {
     "name": "stdout",
     "output_type": "stream",
     "text": [
      "EVAL: [49/49] Data 0.000 (0.003) Elapsed 0m 3s (remain 0m 0s) Loss: -0.7361(-0.8604) \n",
      "Epoch: [18][1/192] Data 0.350 (0.350) Elapsed 0m 0s (remain 2m 2s) Loss: -0.9197(-0.9197) Grad: 14.0211  \n",
      "Epoch: [18][101/192] Data 0.000 (0.004) Elapsed 0m 24s (remain 0m 21s) Loss: -0.9166(-0.8922) Grad: 16.1350  \n",
      "Epoch: [18][192/192] Data 0.000 (0.002) Elapsed 0m 44s (remain 0m 0s) Loss: -0.8198(-0.8963) Grad: 5.2898  \n",
      "EVAL: [1/49] Data 0.130 (0.130) Elapsed 0m 0s (remain 0m 9s) Loss: -0.8421(-0.8421) \n"
     ]
    },
    {
     "name": "stderr",
     "output_type": "stream",
     "text": [
      "Epoch 18 - avg_train_loss: -0.8963  avg_val_loss: -0.8617  time: 47s\n",
      "Epoch 18 - Accuracy: 0.893368010403121\n",
      "Epoch 18 - Save Best Score: 0.8934 Model\n"
     ]
    },
    {
     "name": "stdout",
     "output_type": "stream",
     "text": [
      "EVAL: [49/49] Data 0.000 (0.003) Elapsed 0m 2s (remain 0m 0s) Loss: -0.7410(-0.8617) \n",
      "Epoch: [19][1/192] Data 0.309 (0.309) Elapsed 0m 0s (remain 1m 58s) Loss: -0.9277(-0.9277) Grad: 12.3564  \n",
      "Epoch: [19][101/192] Data 0.000 (0.003) Elapsed 0m 23s (remain 0m 21s) Loss: -0.9276(-0.8944) Grad: 9.8481  \n",
      "Epoch: [19][192/192] Data 0.000 (0.002) Elapsed 0m 43s (remain 0m 0s) Loss: -0.8184(-0.8989) Grad: 8.4787  \n",
      "EVAL: [1/49] Data 0.156 (0.156) Elapsed 0m 0s (remain 0m 10s) Loss: -0.8551(-0.8551) \n"
     ]
    },
    {
     "name": "stderr",
     "output_type": "stream",
     "text": [
      "Epoch 19 - avg_train_loss: -0.8989  avg_val_loss: -0.8635  time: 47s\n",
      "Epoch 19 - Accuracy: 0.8907672301690507\n"
     ]
    },
    {
     "name": "stdout",
     "output_type": "stream",
     "text": [
      "EVAL: [49/49] Data 0.000 (0.004) Elapsed 0m 2s (remain 0m 0s) Loss: -0.7214(-0.8635) \n",
      "Epoch: [20][1/192] Data 0.306 (0.306) Elapsed 0m 0s (remain 1m 58s) Loss: -0.9203(-0.9203) Grad: 8.2810  \n",
      "Epoch: [20][101/192] Data 0.000 (0.003) Elapsed 0m 23s (remain 0m 20s) Loss: -0.9298(-0.8974) Grad: 7.9783  \n",
      "Epoch: [20][192/192] Data 0.000 (0.002) Elapsed 0m 42s (remain 0m 0s) Loss: -0.8177(-0.9009) Grad: 8.4521  \n",
      "EVAL: [1/49] Data 0.124 (0.124) Elapsed 0m 0s (remain 0m 9s) Loss: -0.8527(-0.8527) \n"
     ]
    },
    {
     "name": "stderr",
     "output_type": "stream",
     "text": [
      "Epoch 20 - avg_train_loss: -0.9009  avg_val_loss: -0.8639  time: 46s\n",
      "Epoch 20 - Accuracy: 0.8907672301690507\n",
      "========== CV ==========\n",
      "Score: 0.89337\n"
     ]
    },
    {
     "name": "stdout",
     "output_type": "stream",
     "text": [
      "EVAL: [49/49] Data 0.000 (0.003) Elapsed 0m 2s (remain 0m 0s) Loss: -0.7200(-0.8639) \n",
      "TN 1124\n",
      "FP 27\n",
      "FN 137\n",
      "TP 250\n"
     ]
    },
    {
     "data": {
      "image/png": "[encoded data removed]",
      "text/plain": [
       "<Figure size 640x480 with 1 Axes>"
      ]
     },
     "metadata": {},
     "output_type": "display_data"
    }
   ],
   "source": [
    "if __name__ == '__main__':\n",
    "    main(0)"
   ]
  },
  {
   "cell_type": "code",
   "execution_count": null,
   "metadata": {
    "papermill": {
     "duration": 0.033439,
     "end_time": "2021-06-03T13:33:30.267988",
     "exception": false,
     "start_time": "2021-06-03T13:33:30.234549",
     "status": "completed"
    },
    "tags": []
   },
   "outputs": [],
   "source": []
  }
 ],
 "metadata": {
  "kernelspec": {
   "display_name": "Python 3",
   "language": "python",
   "name": "python3"
  },
  "language_info": {
   "codemirror_mode": {
    "name": "ipython",
    "version": 3
   },
   "file_extension": ".py",
   "mimetype": "text/x-python",
   "name": "python",
   "nbconvert_exporter": "python",
   "pygments_lexer": "ipython3",
   "version": "3.8.18"
  },
  "papermill": {
   "default_parameters": {},
   "duration": 921.862366,
   "end_time": "2021-06-03T13:33:31.832533",
   "environment_variables": {},
   "exception": null,
   "input_path": "__notebook__.ipynb",
   "output_path": "__notebook__.ipynb",
   "parameters": {},
   "start_time": "2021-06-03T13:18:09.970167",
   "version": "2.3.3"
  }
 },
 "nbformat": 4,
 "nbformat_minor": 5
}
