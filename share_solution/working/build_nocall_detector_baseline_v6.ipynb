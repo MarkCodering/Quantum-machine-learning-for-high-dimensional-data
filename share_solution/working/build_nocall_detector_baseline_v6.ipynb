{
 "cells": [
  {
   "cell_type": "markdown",
   "metadata": {
    "papermill": {
     "duration": 0.011267,
     "end_time": "2021-06-03T13:18:16.507530",
     "exception": false,
     "start_time": "2021-06-03T13:18:16.496263",
     "status": "completed"
    },
    "tags": []
   },
   "source": [
    "# Credit\n",
    "\n",
    "This notebook is based on the following notebook by @yasufuminakama. I would like to take this opportunity to thank him.\n",
    "\n",
    "Please vote for his notebook as well.\n",
    "\n",
    "https://www.kaggle.com/yasufuminakama/cassava-resnext50-32x4d-starter-training\n",
    "\n",
    "# Summary of this notebook\n",
    "\n",
    "In this notebook, we are gonna build the nocall detector. (0:nocall, 1:somebird singing)\n",
    "\n",
    "The output of the models would be probability value.\n",
    "\n",
    "# input & output of this notebook\n",
    "\n",
    "[input]\n",
    "\n",
    "freefield1010 data\n",
    "\n",
    "https://www.kaggle.com/startjapan/ff1010bird-duration7\n",
    "\n",
    "[output]\n",
    "\n",
    "Nocall detector models are outputted."
   ]
  },
  {
   "cell_type": "code",
   "execution_count": 35,
   "metadata": {
    "execution": {
     "iopub.execute_input": "2021-06-03T13:18:16.537460Z",
     "iopub.status.busy": "2021-06-03T13:18:16.536974Z",
     "iopub.status.idle": "2021-06-03T13:18:16.540823Z",
     "shell.execute_reply": "2021-06-03T13:18:16.540348Z"
    },
    "papermill": {
     "duration": 0.023365,
     "end_time": "2021-06-03T13:18:16.540951",
     "exception": false,
     "start_time": "2021-06-03T13:18:16.517586",
     "status": "completed"
    },
    "tags": []
   },
   "outputs": [],
   "source": [
    "import os\n",
    "\n",
    "OUTPUT_DIR = './'\n",
    "if not os.path.exists(OUTPUT_DIR):\n",
    "    os.makedirs(OUTPUT_DIR)"
   ]
  },
  {
   "cell_type": "code",
   "execution_count": 36,
   "metadata": {
    "execution": {
     "iopub.execute_input": "2021-06-03T13:18:16.566791Z",
     "iopub.status.busy": "2021-06-03T13:18:16.566088Z",
     "iopub.status.idle": "2021-06-03T13:18:17.801738Z",
     "shell.execute_reply": "2021-06-03T13:18:17.801136Z"
    },
    "papermill": {
     "duration": 1.250811,
     "end_time": "2021-06-03T13:18:17.801878",
     "exception": false,
     "start_time": "2021-06-03T13:18:16.551067",
     "status": "completed"
    },
    "tags": []
   },
   "outputs": [],
   "source": [
    "import torch\n",
    "\n",
    "class CFG:\n",
    "    print_freq=100\n",
    "    num_workers=4\n",
    "    model_name= 'resnext50_32x4d'\n",
    "    dim=(128, 281)\n",
    "    scheduler='CosineAnnealingWarmRestarts'\n",
    "    epochs=10\n",
    "    lr=1e-4\n",
    "    #lr=0.001\n",
    "    T_0=10 # for CosineAnnealingWarmRestarts\n",
    "    min_lr=5e-7 # for CosineAnnealingWarmRestarts\n",
    "    batch_size=32\n",
    "    weight_decay=1e-6\n",
    "    max_grad_norm=1000\n",
    "    seed=42\n",
    "    target_size=2\n",
    "    target_col='hasbird'\n",
    "    n_fold = 5\n",
    "    pretrained = True\n",
    "    #device = 'cpu'\n",
    "    device = torch.device('cuda' if torch.cuda.is_available() else 'cpu')"
   ]
  },
  {
   "cell_type": "code",
   "execution_count": 37,
   "metadata": {
    "execution": {
     "iopub.execute_input": "2021-06-03T13:18:17.830157Z",
     "iopub.status.busy": "2021-06-03T13:18:17.829448Z",
     "iopub.status.idle": "2021-06-03T13:18:18.811434Z",
     "shell.execute_reply": "2021-06-03T13:18:18.810978Z"
    },
    "papermill": {
     "duration": 0.999064,
     "end_time": "2021-06-03T13:18:18.811555",
     "exception": false,
     "start_time": "2021-06-03T13:18:17.812491",
     "status": "completed"
    },
    "tags": []
   },
   "outputs": [
    {
     "name": "stdout",
     "output_type": "stream",
     "text": [
      "fold  hasbird\n",
      "0     0          1151\n",
      "      1           387\n",
      "1     0          1151\n",
      "      1           387\n",
      "2     0          1151\n",
      "      1           387\n",
      "3     0          1151\n",
      "      1           387\n",
      "4     0          1151\n",
      "      1           387\n",
      "dtype: int64\n"
     ]
    }
   ],
   "source": [
    "from sklearn.model_selection import StratifiedKFold\n",
    "import pandas as pd\n",
    "\n",
    "train = pd.read_csv('/home/next/Quantum/Quantum-machine-learning-for-high-dimensional-data/input/rich_metadata.csv')\n",
    "train.loc[train['hasbird']==0, 'filepath'] = '/home/next/Quantum/Quantum-machine-learning-for-high-dimensional-data/input/nocall/' + train.query('hasbird==0')['filename'] + '.npy'\n",
    "train.loc[train['hasbird']==1, 'filepath'] = '/home/next/Quantum/Quantum-machine-learning-for-high-dimensional-data/input/bird/' + train.query('hasbird==1')['filename'] + '.npy'\n",
    "\n",
    "train = train.dropna().reset_index(drop=True)\n",
    "\n",
    "folds = train.copy()\n",
    "Fold = StratifiedKFold(n_splits=CFG.n_fold, shuffle=True, random_state=CFG.seed)\n",
    "for n, (train_index, val_index) in enumerate(Fold.split(folds, folds[CFG.target_col])):\n",
    "    folds.loc[val_index, 'fold'] = int(n)\n",
    "folds['fold'] = folds['fold'].astype(int)\n",
    "print(folds.groupby(['fold', CFG.target_col]).size())"
   ]
  },
  {
   "cell_type": "code",
   "execution_count": 38,
   "metadata": {
    "execution": {
     "iopub.execute_input": "2021-06-03T13:18:18.844986Z",
     "iopub.status.busy": "2021-06-03T13:18:18.844348Z",
     "iopub.status.idle": "2021-06-03T13:18:28.957198Z",
     "shell.execute_reply": "2021-06-03T13:18:28.956722Z"
    },
    "papermill": {
     "duration": 10.134555,
     "end_time": "2021-06-03T13:18:28.957330",
     "exception": false,
     "start_time": "2021-06-03T13:18:18.822775",
     "status": "completed"
    },
    "tags": []
   },
   "outputs": [],
   "source": [
    "import os\n",
    "import math\n",
    "import time\n",
    "import random\n",
    "import shutil\n",
    "from pathlib import Path\n",
    "from contextlib import contextmanager\n",
    "from collections import defaultdict, Counter\n",
    "# Necessary imports\n",
    "\n",
    "import numpy as np\n",
    "import matplotlib.pyplot as plt\n",
    "\n",
    "\n",
    "from qiskit import QuantumCircuit, QuantumRegister, ClassicalRegister\n",
    "from qiskit.extensions import UnitaryGate\n",
    "from qiskit.utils import algorithm_globals\n",
    "from qiskit.circuit.library import RealAmplitudes, ZFeatureMap, EfficientSU2\n",
    "from qiskit_machine_learning.neural_networks import SamplerQNN\n",
    "from qiskit_machine_learning.connectors import TorchConnector\n",
    "from qiskit.circuit import Parameter, ParameterVector\n",
    "\n",
    "import scipy as sp\n",
    "import numpy as np\n",
    "import pandas as pd\n",
    "import matplotlib.pyplot as plt\n",
    "\n",
    "from sklearn import preprocessing\n",
    "from sklearn.metrics import accuracy_score, confusion_matrix\n",
    "from sklearn.model_selection import StratifiedKFold\n",
    "\n",
    "from tqdm.auto import tqdm\n",
    "from functools import partial\n",
    "\n",
    "import cv2\n",
    "from PIL import Image\n",
    "\n",
    "import cv2\n",
    "from PIL import Image\n",
    "\n",
    "import torch\n",
    "import torch.nn as nn\n",
    "import torch.nn.functional as F\n",
    "from torch.optim import Adam, SGD\n",
    "import torchvision.models as models\n",
    "from torch.nn.parameter import Parameter\n",
    "from torch.utils.data import DataLoader, Dataset\n",
    "from torch.optim.lr_scheduler import CosineAnnealingWarmRestarts\n",
    "\n",
    "import albumentations as A\n",
    "from albumentations.pytorch import ToTensorV2\n",
    "from albumentations import ImageOnlyTransform\n",
    "\n",
    "import timm\n",
    "\n",
    "import warnings \n",
    "warnings.filterwarnings('ignore')"
   ]
  },
  {
   "cell_type": "code",
   "execution_count": 39,
   "metadata": {
    "execution": {
     "iopub.execute_input": "2021-06-03T13:18:28.992535Z",
     "iopub.status.busy": "2021-06-03T13:18:28.991939Z",
     "iopub.status.idle": "2021-06-03T13:18:28.998314Z",
     "shell.execute_reply": "2021-06-03T13:18:28.997883Z"
    },
    "papermill": {
     "duration": 0.028265,
     "end_time": "2021-06-03T13:18:28.998451",
     "exception": false,
     "start_time": "2021-06-03T13:18:28.970186",
     "status": "completed"
    },
    "tags": []
   },
   "outputs": [],
   "source": [
    "def get_score(y_true, y_pred):\n",
    "    return accuracy_score(y_true, y_pred)\n",
    "\n",
    "def get_confusion_matrix(y_true, y_pred):\n",
    "    return confusion_matrix(y_true, y_pred)\n",
    "\n",
    "@contextmanager\n",
    "def timer(name):\n",
    "    t0 = time.time()\n",
    "    LOGGER.info(f'[{name}] start')\n",
    "    yield\n",
    "    LOGGER.info(f'[{name}] done in {time.time() - t0:.0f} s.')\n",
    "\n",
    "\n",
    "def init_logger(log_file=OUTPUT_DIR+'train.log'):\n",
    "    from logging import getLogger, INFO, FileHandler,  Formatter,  StreamHandler\n",
    "    logger = getLogger(__name__)\n",
    "    logger.setLevel(INFO)\n",
    "    handler1 = StreamHandler()\n",
    "    handler1.setFormatter(Formatter(\"%(message)s\"))\n",
    "    handler2 = FileHandler(filename=log_file)\n",
    "    handler2.setFormatter(Formatter(\"%(message)s\"))\n",
    "    logger.addHandler(handler1)\n",
    "    logger.addHandler(handler2)\n",
    "    return logger\n",
    "\n",
    "LOGGER = init_logger()\n",
    "\n",
    "\n",
    "def seed_torch(seed=42):\n",
    "    random.seed(seed)\n",
    "    os.environ['PYTHONHASHSEED'] = str(seed)\n",
    "    np.random.seed(seed)\n",
    "    torch.manual_seed(seed)\n",
    "    torch.cuda.manual_seed(seed)\n",
    "    torch.backends.cudnn.deterministic = True\n",
    "\n",
    "seed_torch(seed=CFG.seed)"
   ]
  },
  {
   "cell_type": "code",
   "execution_count": 40,
   "metadata": {
    "execution": {
     "iopub.execute_input": "2021-06-03T13:18:29.031990Z",
     "iopub.status.busy": "2021-06-03T13:18:29.031227Z",
     "iopub.status.idle": "2021-06-03T13:18:29.033990Z",
     "shell.execute_reply": "2021-06-03T13:18:29.033586Z"
    },
    "papermill": {
     "duration": 0.022696,
     "end_time": "2021-06-03T13:18:29.034100",
     "exception": false,
     "start_time": "2021-06-03T13:18:29.011404",
     "status": "completed"
    },
    "tags": []
   },
   "outputs": [],
   "source": [
    "class TrainDataset(Dataset):\n",
    "    def __init__(self, df, transform=None):\n",
    "        self.df = df\n",
    "        self.file_paths = df['filepath'].values\n",
    "        self.labels = df['hasbird'].values\n",
    "        self.transform = transform\n",
    "        \n",
    "    def __len__(self):\n",
    "        return len(self.df)\n",
    "\n",
    "    def __getitem__(self, idx):\n",
    "        file_name = self.file_paths[idx]\n",
    "        file_path = file_name\n",
    "        image = np.load(file_path)\n",
    "        image = image.transpose(1,2,0)\n",
    "        image = np.squeeze(image)\n",
    "        image = np.stack((image,)*3, -1)\n",
    "        if self.transform:\n",
    "            augmented = self.transform(image=image)\n",
    "            image = augmented['image']\n",
    "        label = torch.tensor(self.labels[idx]).long()\n",
    "        return image, label"
   ]
  },
  {
   "cell_type": "code",
   "execution_count": 41,
   "metadata": {
    "execution": {
     "iopub.execute_input": "2021-06-03T13:18:29.065650Z",
     "iopub.status.busy": "2021-06-03T13:18:29.064968Z",
     "iopub.status.idle": "2021-06-03T13:18:29.067798Z",
     "shell.execute_reply": "2021-06-03T13:18:29.067278Z"
    },
    "papermill": {
     "duration": 0.021515,
     "end_time": "2021-06-03T13:18:29.067897",
     "exception": false,
     "start_time": "2021-06-03T13:18:29.046382",
     "status": "completed"
    },
    "tags": []
   },
   "outputs": [],
   "source": [
    "def get_transforms(*, data):\n",
    "    \n",
    "    if data == 'train':\n",
    "        return A.Compose([\n",
    "            A.Resize(CFG.dim[0], CFG.dim[1]),\n",
    "            A.HorizontalFlip(p=0.5),\n",
    "            A.VerticalFlip(p=0.5),\n",
    "            A.augmentations.transforms.JpegCompression(p=0.5),\n",
    "            A.augmentations.transforms.ImageCompression(p=0.5, compression_type=A.augmentations.transforms.ImageCompression.ImageCompressionType.WEBP),\n",
    "            A.Normalize(\n",
    "                mean=[0.485, 0.456, 0.406],\n",
    "                std=[0.229, 0.224, 0.225],\n",
    "            ),\n",
    "            ToTensorV2(),\n",
    "        ])\n",
    "\n",
    "    elif data == 'valid':\n",
    "        return A.Compose([\n",
    "            A.Resize(CFG.dim[0], CFG.dim[1]),\n",
    "            A.Normalize(\n",
    "                mean=[0.485, 0.456, 0.406],\n",
    "                std=[0.229, 0.224, 0.225],\n",
    "            ),\n",
    "            ToTensorV2(),\n",
    "        ])"
   ]
  },
  {
   "cell_type": "code",
   "execution_count": 42,
   "id": "af7c554e",
   "metadata": {},
   "outputs": [],
   "source": [
    "class CustomResNext(nn.Module):\n",
    "    def __init__(self, model_name='resnext50_32x4d', pretrained=True):\n",
    "        super().__init__()\n",
    "        self.model = timm.create_model(model_name, pretrained=pretrained)\n",
    "        n_features = self.model.fc.in_features\n",
    "        self.model.fc = nn.Linear(n_features, CFG.target_size)\n",
    "\n",
    "    def forward(self, x):\n",
    "        x = self.model(x)\n",
    "        return x"
   ]
  },
  {
   "cell_type": "code",
   "execution_count": 43,
   "id": "4100b02f",
   "metadata": {},
   "outputs": [],
   "source": [
    "from qiskit.circuit.library.standard_gates import RXGate, RYGate, MCXGate\n",
    "\n",
    "def incrementor(nq):\n",
    "    qc = QuantumCircuit(nq)\n",
    "    for i in range(nq,0,-1):\n",
    "        if i == 1:\n",
    "            qc.x(0)\n",
    "        else:\n",
    "            qc.append(MCXGate(i-1),range(i))\n",
    "    return qc\n",
    "\n",
    "def decrementor(nq):\n",
    "    qc = QuantumCircuit(nq)\n",
    "    for i in range(nq):\n",
    "        if i == 0:\n",
    "            qc.x(0)\n",
    "        else:\n",
    "            qc.append(MCXGate(i),range(i+1))\n",
    "    return qc"
   ]
  },
  {
   "cell_type": "code",
   "execution_count": 44,
   "id": "7d6214cc",
   "metadata": {},
   "outputs": [],
   "source": [
    "num = 1\n",
    "shift_num = 1\n",
    "parameters_theta_right = ParameterVector('theta_r', length=(shift_num))\n",
    "parameters_theta_left = ParameterVector('theta_l', length=(shift_num))\n",
    "parameters_phi_right = ParameterVector('phi_r', length=(shift_num))\n",
    "parameters_phi_left = ParameterVector('phi_l', length=(shift_num))\n",
    "parameters_lambda_right = ParameterVector('lambda_r', length=(shift_num))\n",
    "parameters_lambda_left = ParameterVector('lambda_l', length=(shift_num))\n",
    "\n",
    "parameters_theta_left_pos = ParameterVector('theta_l_pos', length=(num))\n",
    "parameters_theta_right_pos = ParameterVector('theta_r_pos', length=(num))\n",
    "parameters_phi_left_pos = ParameterVector('phi_l_pos', length=(num))\n",
    "parameters_phi_right_pos = ParameterVector('phi_r_pos', length=(num))\n",
    "parameters_lambda_left_pos = ParameterVector('lambda_l_pos', length=(num))\n",
    "parameters_lambda_right_pos = ParameterVector('lambda_r_pos', length=(num))\n",
    "\n",
    "def multi_conditional_shift_operator_right(Num_CoinQubits, Num_PositionQubits):\n",
    "    # Define your shift operator using trainable parameters\n",
    "    shift_operator = QuantumCircuit(Num_CoinQubits + Num_PositionQubits, name='ShiftOperator')\n",
    "\n",
    "    # Apply u gates \n",
    "    for i in range(Num_PositionQubits):\n",
    "        shift_operator.u(parameters_theta_right[i], parameters_phi_right[i], parameters_lambda_right[i], i)\n",
    "        \n",
    "    return shift_operator\n",
    "\n",
    "def multi_conditional_shift_operator_left(Num_CoinQubits, Num_PositionQubits):\n",
    "    # Define your shift operator using trainable parameters\n",
    "    shift_operator = QuantumCircuit(Num_CoinQubits + Num_PositionQubits, name='ShiftOperator')\n",
    "\n",
    "    # Apply u gates\n",
    "    for i in range(Num_PositionQubits):\n",
    "        shift_operator.u(parameters_theta_left[i], parameters_phi_left[i], parameters_lambda_left[i], i)\n",
    "\n",
    "    return shift_operator\n",
    "\n",
    "\n",
    "def QW_with_multicoin(Num_CoinQubits, Num_PositionQubits):\n",
    "    qr_x = QuantumRegister(Num_PositionQubits, name=\"x\")\n",
    "    qr_c = QuantumRegister(Num_CoinQubits, name=\"c\")\n",
    "    #cr = ClassicalRegister(Num_PositionQubits, name=\"cbits\")\n",
    "    circ = QuantumCircuit(qr_x, qr_c)\n",
    "\n",
    "    shift_right = multi_conditional_shift_operator_right(Num_CoinQubits, Num_PositionQubits)\n",
    "    shift_left = multi_conditional_shift_operator_left(Num_CoinQubits, Num_PositionQubits)\n",
    "    # Initialize coin qubits with trainable parameters\n",
    "    \n",
    "    # Full entanglement of coin qubits using u gate\n",
    "    for i in range(2, Num_CoinQubits+1):\n",
    "        circ.u(parameters_theta_right_pos[0], parameters_phi_right_pos[0], parameters_lambda_right_pos[0], i)\n",
    "    \n",
    "    for i in range(1, Num_CoinQubits):\n",
    "        circ.u(parameters_theta_right_pos[0], parameters_phi_right_pos[0], parameters_lambda_right_pos[0], i)\n",
    "        for j in range(i):\n",
    "            circ.cx(qr_c[i], qr_c[j])\n",
    "        circ.u(parameters_theta_right_pos[0], parameters_phi_right_pos[0], parameters_lambda_right_pos[0], i)            \n",
    "\n",
    "    for i in range(2, Num_CoinQubits+1):\n",
    "        circ.u(parameters_theta_right_pos[0], parameters_phi_right_pos[0], parameters_lambda_right_pos[0], i)\n",
    "\n",
    "\n",
    "    circ.barrier()\n",
    "\n",
    "    # Apply S+\n",
    "    circ.append(shift_right, range(Num_CoinQubits + Num_PositionQubits))\n",
    "\n",
    "    circ.barrier()\n",
    "\n",
    "    # Update coin qubits with new parameters\n",
    "    for i in range(2, Num_CoinQubits+1):\n",
    "        circ.u(parameters_theta_left_pos[0], parameters_phi_left_pos[0], parameters_lambda_left_pos[0], i)\n",
    "    \n",
    "    for i in range(1, Num_CoinQubits):\n",
    "        circ.u(parameters_theta_left_pos[0], parameters_phi_left_pos[0], parameters_lambda_left_pos[0], i)\n",
    "        for j in range(i):\n",
    "            circ.cx(qr_c[i], qr_c[j])\n",
    "        circ.u(parameters_theta_left_pos[0], parameters_phi_left_pos[0], parameters_lambda_left_pos[0], i)\n",
    "        \n",
    "    for i in range(2, Num_CoinQubits+1):\n",
    "        circ.u(parameters_theta_left_pos[0], parameters_phi_left_pos[0], parameters_lambda_left_pos[0], i)\n",
    "\n",
    "            \n",
    "    circ.barrier()\n",
    "\n",
    "    # Apply S-\n",
    "    circ.append(shift_left, range(Num_CoinQubits + Num_PositionQubits))\n",
    "\n",
    "    #circ.measure(qr_x, cr)\n",
    "    \n",
    "    # Only return the classical register\n",
    "    return circ"
   ]
  },
  {
   "cell_type": "code",
   "execution_count": 45,
   "id": "8a938703",
   "metadata": {},
   "outputs": [
    {
     "name": "stderr",
     "output_type": "stream",
     "text": [
      "No interpret function given, output_shape will be automatically determined as 2^num_qubits.\n"
     ]
    }
   ],
   "source": [
    "# Set seed for random generators\n",
    "algorithm_globals.random_seed = 42\n",
    "\n",
    "# we decompose the circuit for the QNN to avoid additional data copying\n",
    "# Define and create QNN\n",
    "nq=3\n",
    "def create_qnn():\n",
    "    #feature_map = ZFeatureMap(nq, reps=2)\n",
    "    feature_map = QW_with_multicoin(Num_CoinQubits=2, Num_PositionQubits=1)\n",
    "    ansatz = RealAmplitudes(1, reps=2)\n",
    "    qc = QuantumCircuit(nq)\n",
    "    # Only compose the quantum circuit quantum register\n",
    "    qc.compose(feature_map, inplace=True)\n",
    "    # Place ansatz on the quantum register q0 to q1\n",
    "    qc.compose(ansatz, inplace=True)\n",
    "\n",
    "    # REMEMBER TO SET input_gradients=True FOR ENABLING HYBRID GRADIENT BACKPROP\n",
    "    qnn = SamplerQNN(\n",
    "        circuit=qc,\n",
    "        input_params=[\n",
    "            parameters_theta_right,\n",
    "            parameters_phi_right,\n",
    "            parameters_lambda_right,\n",
    "            parameters_theta_left,\n",
    "            parameters_phi_left,\n",
    "            parameters_lambda_left,\n",
    "            parameters_theta_left_pos,\n",
    "            parameters_theta_right_pos,\n",
    "            parameters_phi_left_pos,\n",
    "            parameters_phi_right_pos,\n",
    "            parameters_lambda_left_pos,\n",
    "            parameters_lambda_right_pos,\n",
    "        ],\n",
    "        weight_params=ansatz.parameters,\n",
    "        input_gradients=True,\n",
    "        output_shape=0,\n",
    "    )\n",
    "    \n",
    "    return qnn\n",
    "\n",
    "qnn = create_qnn()"
   ]
  },
  {
   "cell_type": "code",
   "execution_count": 46,
   "id": "0bcaf3d7",
   "metadata": {},
   "outputs": [
    {
     "data": {
      "image/png": "[encoded data removed]",
      "text/plain": [
       "<Figure size 2210.55x618.722 with 1 Axes>"
      ]
     },
     "execution_count": 46,
     "metadata": {},
     "output_type": "execute_result"
    }
   ],
   "source": [
    "#feature_map = ZFeatureMap(nq, reps=2)\n",
    "feature_map = QW_with_multicoin(Num_CoinQubits=2, Num_PositionQubits=1)\n",
    "ansatz = RealAmplitudes(1, reps=2)\n",
    "qc = QuantumCircuit(nq)\n",
    "# Only compose the quantum circuit quantum register\n",
    "qc.compose(feature_map, inplace=True)\n",
    "# Place ansatz on the quantum register q0 to q1\n",
    "qc.compose(ansatz, inplace=True)\n",
    "qc.draw('mpl')"
   ]
  },
  {
   "cell_type": "code",
   "execution_count": 47,
   "id": "431e8931",
   "metadata": {},
   "outputs": [],
   "source": [
    "class QuantumCustomResNext(nn.Module):\n",
    "    def __init__(self, model_name='resnext50_32x4d', pretrained=True):\n",
    "        super().__init__()\n",
    "        self.model = timm.create_model(model_name, pretrained=pretrained)\n",
    "        self.fc = nn.Linear(512, 12)    \n",
    "        # Continue to write your own cnn layers\n",
    "        #self.relu = nn.ReLU()\n",
    "        #self.conv1d = nn.Conv1d(512, 256, kernel_size=3, padding=1)\n",
    "\n",
    "        self.qnn = TorchConnector(qnn)\n",
    "        #self.fc2 = nn.Linear(pow(2, nq), 2)\n",
    "\n",
    "        # Remove fully connected layer and last two blocks\n",
    "        self.model.fc = nn.Identity()\n",
    "        self.model.layer4 = nn.Identity()\n",
    "        self.model.layer3 = nn.Identity()\n",
    "\n",
    "    def forward(self, x):\n",
    "        x = self.model(x)\n",
    "        x = self.fc(x)\n",
    "        x = self.qnn(x)\n",
    "        #x = self.fc2(x)\n",
    "\n",
    "        return x"
   ]
  },
  {
   "cell_type": "code",
   "execution_count": 48,
   "metadata": {
    "execution": {
     "iopub.execute_input": "2021-06-03T13:18:29.145766Z",
     "iopub.status.busy": "2021-06-03T13:18:29.144984Z",
     "iopub.status.idle": "2021-06-03T13:18:29.147597Z",
     "shell.execute_reply": "2021-06-03T13:18:29.147086Z"
    },
    "papermill": {
     "duration": 0.035666,
     "end_time": "2021-06-03T13:18:29.147696",
     "exception": false,
     "start_time": "2021-06-03T13:18:29.112030",
     "status": "completed"
    },
    "tags": []
   },
   "outputs": [],
   "source": [
    "class AverageMeter(object):\n",
    "    \"\"\"Computes and stores the average and current value\"\"\"\n",
    "    def __init__(self):\n",
    "        self.reset()\n",
    "\n",
    "    def reset(self):\n",
    "        self.val = 0\n",
    "        self.avg = 0\n",
    "        self.sum = 0\n",
    "        self.count = 0\n",
    "\n",
    "    def update(self, val, n=1):\n",
    "        self.val = val\n",
    "        self.sum += val * n\n",
    "        self.count += n\n",
    "        self.avg = self.sum / self.count\n",
    "\n",
    "\n",
    "def asMinutes(s):\n",
    "    m = math.floor(s / 60)\n",
    "    s -= m * 60\n",
    "    return '%dm %ds' % (m, s)\n",
    "\n",
    "def timeSince(since, percent):\n",
    "    now = time.time()\n",
    "    s = now - since\n",
    "    es = s / (percent)\n",
    "    rs = es - s\n",
    "    return '%s (remain %s)' % (asMinutes(s), asMinutes(rs))\n",
    "\n",
    "\n",
    "def train_fn(train_loader, model, criterion, optimizer, epoch, scheduler, device):\n",
    "    batch_time = AverageMeter()\n",
    "    data_time = AverageMeter()\n",
    "    losses = AverageMeter()\n",
    "    scores = AverageMeter()\n",
    "    # switch to train mode\n",
    "    model.train()\n",
    "    start = end = time.time()\n",
    "    global_step = 0\n",
    "    for step, (images, labels) in enumerate(train_loader):\n",
    "        # measure data loading time\n",
    "        data_time.update(time.time() - end)\n",
    "        images = images.to(device)\n",
    "        labels = labels.to(device)\n",
    "        batch_size = labels.size(0)\n",
    "        y_preds = model(images)\n",
    "        loss = criterion(y_preds, labels)\n",
    "        # record loss\n",
    "        losses.update(loss.item(), batch_size)\n",
    "        loss.backward()\n",
    "        grad_norm = torch.nn.utils.clip_grad_norm_(model.parameters(), CFG.max_grad_norm)\n",
    "        \n",
    "        optimizer.step()\n",
    "        optimizer.zero_grad()\n",
    "        global_step += 1\n",
    "        # measure elapsed time\n",
    "        batch_time.update(time.time() - end)\n",
    "        end = time.time()\n",
    "        if step % CFG.print_freq == 0 or step == (len(train_loader)-1):\n",
    "            print('Epoch: [{0}][{1}/{2}] '\n",
    "                  'Data {data_time.val:.3f} ({data_time.avg:.3f}) '\n",
    "                  'Elapsed {remain:s} '\n",
    "                  'Loss: {loss.val:.4f}({loss.avg:.4f}) '\n",
    "                  'Grad: {grad_norm:.4f}  '\n",
    "                  .format(\n",
    "                   epoch+1, step+1, len(train_loader), batch_time=batch_time,\n",
    "                   data_time=data_time, loss=losses,\n",
    "                   remain=timeSince(start, float(step+1)/len(train_loader)),\n",
    "                   grad_norm=grad_norm,\n",
    "                   ))\n",
    "    return losses.avg\n",
    "\n",
    "def valid_fn(valid_loader, model, criterion, device):\n",
    "    batch_time = AverageMeter()\n",
    "    data_time = AverageMeter()\n",
    "    losses = AverageMeter()\n",
    "    scores = AverageMeter()\n",
    "    # switch to evaluation mode\n",
    "    model.eval()\n",
    "    preds = []\n",
    "    start = end = time.time()\n",
    "    for step, (images, labels) in enumerate(valid_loader):\n",
    "        # measure data loading time\n",
    "        data_time.update(time.time() - end)\n",
    "        images = images.to(device)\n",
    "        labels = labels.to(device)\n",
    "        batch_size = labels.size(0)\n",
    "        # compute loss\n",
    "        with torch.no_grad():\n",
    "            y_preds = model(images)\n",
    "        loss = criterion(y_preds, labels)\n",
    "        losses.update(loss.item(), batch_size)\n",
    "        # record accuracy\n",
    "        preds.append(y_preds.softmax(1).to('cpu').numpy())\n",
    "        # measure elapsed time\n",
    "        batch_time.update(time.time() - end)\n",
    "        end = time.time()\n",
    "        if step % CFG.print_freq == 0 or step == (len(valid_loader)-1):\n",
    "            print('EVAL: [{0}/{1}] '\n",
    "                  'Data {data_time.val:.3f} ({data_time.avg:.3f}) '\n",
    "                  'Elapsed {remain:s} '\n",
    "                  'Loss: {loss.val:.4f}({loss.avg:.4f}) '\n",
    "                  .format(\n",
    "                   step+1, len(valid_loader), batch_time=batch_time,\n",
    "                   data_time=data_time, loss=losses,\n",
    "                   remain=timeSince(start, float(step+1)/len(valid_loader)),\n",
    "                   ))\n",
    "    predictions = np.concatenate(preds)\n",
    "    return losses.avg, predictions\n",
    "\n",
    "def inference(model, states, test_loader, device):\n",
    "    model.to(device)\n",
    "    tk0 = tqdm(enumerate(test_loader), total=len(test_loader))\n",
    "    probs = []\n",
    "    for i, (images) in tk0:\n",
    "        images = images.to(device)\n",
    "        avg_preds = []\n",
    "        for state in states:\n",
    "            model.load_state_dict(state['model'])\n",
    "            model.eval()\n",
    "            with torch.no_grad():\n",
    "                y_preds = model(images)\n",
    "            avg_preds.append(y_preds.softmax(1).to('cpu').numpy())\n",
    "        avg_preds = np.mean(avg_preds, axis=0)\n",
    "        probs.append(avg_preds)\n",
    "    probs = np.concatenate(probs)\n",
    "    return probs"
   ]
  },
  {
   "cell_type": "code",
   "execution_count": 49,
   "metadata": {
    "execution": {
     "iopub.execute_input": "2021-06-03T13:18:29.187429Z",
     "iopub.status.busy": "2021-06-03T13:18:29.186604Z",
     "iopub.status.idle": "2021-06-03T13:18:29.189566Z",
     "shell.execute_reply": "2021-06-03T13:18:29.189044Z"
    },
    "papermill": {
     "duration": 0.029536,
     "end_time": "2021-06-03T13:18:29.189694",
     "exception": false,
     "start_time": "2021-06-03T13:18:29.160158",
     "status": "completed"
    },
    "tags": []
   },
   "outputs": [],
   "source": [
    "from torchsummary import summary\n",
    "\n",
    "def train_loop(train_folds, valid_folds):\n",
    "\n",
    "    LOGGER.info(f\"========== training ==========\")\n",
    "\n",
    "    # ====================================================\n",
    "    # loader\n",
    "    # ====================================================\n",
    "    train_dataset = TrainDataset(train_folds, \n",
    "                                 transform=get_transforms(data='train'))\n",
    "    valid_dataset = TrainDataset(valid_folds, \n",
    "                                 transform=get_transforms(data='valid'))\n",
    "\n",
    "    train_loader = DataLoader(train_dataset, \n",
    "                              batch_size=CFG.batch_size, \n",
    "                              shuffle=False, \n",
    "                              num_workers=CFG.num_workers, pin_memory=True, drop_last=True)\n",
    "    valid_loader = DataLoader(valid_dataset, \n",
    "                              batch_size=CFG.batch_size, \n",
    "                              shuffle=False, \n",
    "                              num_workers=CFG.num_workers, pin_memory=True, drop_last=False)\n",
    "    \n",
    "    def get_scheduler(optimizer):\n",
    "        scheduler = CosineAnnealingWarmRestarts(optimizer, T_0=CFG.T_0, T_mult=1, eta_min=CFG.min_lr, last_epoch=-1)\n",
    "        return scheduler\n",
    "\n",
    "    # ====================================================\n",
    "    # model & optimizer\n",
    "    # ====================================================\n",
    "    model = QuantumCustomResNext(CFG.model_name, pretrained=True)\n",
    "    #model = CustomResNext(CFG.model_name, pretrained=True)\n",
    "    model.to(CFG.device)\n",
    "    \n",
    "    optimizer = Adam(model.parameters(), lr=CFG.lr, weight_decay=CFG.weight_decay, amsgrad=False)\n",
    "    scheduler = get_scheduler(optimizer)\n",
    "\n",
    "    # ====================================================\n",
    "    # loop\n",
    "    # ====================================================\n",
    "    criterion = nn.CrossEntropyLoss()\n",
    "    #criterion = nn.NLLLoss()\n",
    "    best_score = 0.\n",
    "    best_loss = np.inf\n",
    "    \n",
    "    scores = []\n",
    "    \n",
    "    for epoch in range(CFG.epochs):\n",
    "        \n",
    "        start_time = time.time()\n",
    "        \n",
    "        # train\n",
    "        avg_loss = train_fn(train_loader, model, criterion, optimizer, epoch, scheduler, CFG.device)\n",
    "        \n",
    "        # eval\n",
    "        avg_val_loss, preds = valid_fn(valid_loader, model, criterion, CFG.device)\n",
    "        valid_labels = valid_folds[CFG.target_col].values\n",
    "        \n",
    "        scheduler.step()\n",
    "\n",
    "        # scoring\n",
    "        score = get_score(valid_labels, preds.argmax(1))\n",
    "\n",
    "        elapsed = time.time() - start_time\n",
    "\n",
    "        LOGGER.info(f'Epoch {epoch+1} - avg_train_loss: {avg_loss:.4f}  avg_val_loss: {avg_val_loss:.4f}  time: {elapsed:.0f}s')\n",
    "        LOGGER.info(f'Epoch {epoch+1} - Accuracy: {score}')\n",
    "        \n",
    "        scores.append(score)\n",
    "        \n",
    "        if score > best_score:\n",
    "            best_score = score\n",
    "            LOGGER.info(f'Epoch {epoch+1} - Save Best Score: {best_score:.4f} Model')\n",
    "            torch.save({'model': model.state_dict(), \n",
    "                        'preds': preds},\n",
    "                        OUTPUT_DIR+f'{CFG.model_name}_best.pth')\n",
    "    \n",
    "    #check_point = torch.load(OUTPUT_DIR+f'{CFG.model_name}_best.pth')\n",
    "    torch.save(model.state_dict(), OUTPUT_DIR+f'{CFG.model_name}_best.pth')\n",
    "    qnn5 = create_qnn()\n",
    "    model5 = QuantumCustomResNext(qnn5)\n",
    "    model5.load_state_dict(torch.load(\"model4.pt\"))\n",
    "    valid_folds[[str(c) for c in range(CFG.target_size)]] = check_point['preds']\n",
    "    valid_folds['preds'] = check_point['preds'].argmax(1)\n",
    "\n",
    "    return valid_folds, scores"
   ]
  },
  {
   "cell_type": "code",
   "execution_count": 50,
   "metadata": {
    "execution": {
     "iopub.execute_input": "2021-06-03T13:18:29.221823Z",
     "iopub.status.busy": "2021-06-03T13:18:29.221144Z",
     "iopub.status.idle": "2021-06-03T13:18:29.223394Z",
     "shell.execute_reply": "2021-06-03T13:18:29.223813Z"
    },
    "papermill": {
     "duration": 0.022003,
     "end_time": "2021-06-03T13:18:29.223933",
     "exception": false,
     "start_time": "2021-06-03T13:18:29.201930",
     "status": "completed"
    },
    "tags": []
   },
   "outputs": [],
   "source": [
    "def main(fold):\n",
    "    def get_result(result_df):\n",
    "        preds = result_df['preds'].values\n",
    "        labels = result_df[CFG.target_col].values\n",
    "        score = get_score(labels, preds)\n",
    "        LOGGER.info(f'Score: {score:<.5f}')\n",
    "    \n",
    "    def get_result2(result_df):\n",
    "        preds = result_df['preds'].values\n",
    "        labels = result_df[CFG.target_col].values\n",
    "        matrix = get_confusion_matrix(labels, preds)\n",
    "        print('TN', matrix[0,0])\n",
    "        print('FP', matrix[0,1])\n",
    "        print('FN', matrix[1,0])\n",
    "        print('TP', matrix[1,1])\n",
    "    \n",
    "    # train \n",
    "    train_folds = folds.query(f'fold!={fold}').reset_index(drop=True)\n",
    "    valid_folds = folds.query(f'fold=={fold}').reset_index(drop=False)\n",
    "    oof_df, scores = train_loop(train_folds, valid_folds)\n",
    "    # CV result\n",
    "    LOGGER.info(f\"========== CV ==========\")\n",
    "    get_result(oof_df)\n",
    "    get_result2(oof_df)\n",
    "    # save result\n",
    "    oof_df.to_csv(OUTPUT_DIR+'oof_df.csv', index=False)\n",
    "    plt.plot([i for i in range(CFG.epochs)], scores)\n",
    "    plt.title('valid score')\n",
    "    plt.show()\n"
   ]
  },
  {
   "cell_type": "code",
   "execution_count": 51,
   "metadata": {
    "papermill": {
     "duration": 0.033439,
     "end_time": "2021-06-03T13:33:30.267988",
     "exception": false,
     "start_time": "2021-06-03T13:33:30.234549",
     "status": "completed"
    },
    "tags": []
   },
   "outputs": [
    {
     "name": "stderr",
     "output_type": "stream",
     "text": [
      "========== training ==========\n",
      "========== training ==========\n",
      "========== training ==========\n"
     ]
    },
    {
     "name": "stdout",
     "output_type": "stream",
     "text": [
      "Epoch: [1][1/192] Data 0.337 (0.337) Elapsed 0m 6s (remain 19m 37s) Loss: 1.6625(1.6625) Grad: 35.0545  \n",
      "Epoch: [1][101/192] Data 0.000 (0.004) Elapsed 8m 42s (remain 7m 51s) Loss: 1.4184(1.5469) Grad: 5.6416  \n",
      "Epoch: [1][192/192] Data 0.000 (0.002) Elapsed 16m 35s (remain 0m 0s) Loss: 1.5177(1.5119) Grad: 5.8889  \n",
      "EVAL: [1/49] Data 0.161 (0.161) Elapsed 0m 0s (remain 0m 13s) Loss: 1.4802(1.4802) \n"
     ]
    },
    {
     "name": "stderr",
     "output_type": "stream",
     "text": [
      "Epoch 1 - avg_train_loss: 1.5119  avg_val_loss: 1.4699  time: 1001s\n",
      "Epoch 1 - avg_train_loss: 1.5119  avg_val_loss: 1.4699  time: 1001s\n",
      "Epoch 1 - avg_train_loss: 1.5119  avg_val_loss: 1.4699  time: 1001s\n",
      "Epoch 1 - Accuracy: 0.834850455136541\n",
      "Epoch 1 - Accuracy: 0.834850455136541\n",
      "Epoch 1 - Accuracy: 0.834850455136541\n",
      "Epoch 1 - Save Best Score: 0.8349 Model\n",
      "Epoch 1 - Save Best Score: 0.8349 Model\n",
      "Epoch 1 - Save Best Score: 0.8349 Model\n"
     ]
    },
    {
     "name": "stdout",
     "output_type": "stream",
     "text": [
      "EVAL: [49/49] Data 0.000 (0.004) Elapsed 0m 4s (remain 0m 0s) Loss: 1.6663(1.4699) \n",
      "Epoch: [2][1/192] Data 0.272 (0.272) Elapsed 0m 5s (remain 17m 17s) Loss: 1.4483(1.4483) Grad: 10.3161  \n",
      "Epoch: [2][101/192] Data 0.000 (0.003) Elapsed 8m 39s (remain 7m 48s) Loss: 1.3798(1.4522) Grad: 6.6155  \n",
      "Epoch: [2][192/192] Data 0.000 (0.002) Elapsed 16m 26s (remain 0m 0s) Loss: 1.4882(1.4458) Grad: 2.7673  \n",
      "EVAL: [1/49] Data 0.126 (0.126) Elapsed 0m 0s (remain 0m 11s) Loss: 1.4561(1.4561) \n"
     ]
    },
    {
     "name": "stderr",
     "output_type": "stream",
     "text": [
      "Epoch 2 - avg_train_loss: 1.4458  avg_val_loss: 1.4509  time: 990s\n",
      "Epoch 2 - avg_train_loss: 1.4458  avg_val_loss: 1.4509  time: 990s\n",
      "Epoch 2 - avg_train_loss: 1.4458  avg_val_loss: 1.4509  time: 990s\n",
      "Epoch 2 - Accuracy: 0.8589076723016905\n",
      "Epoch 2 - Accuracy: 0.8589076723016905\n",
      "Epoch 2 - Accuracy: 0.8589076723016905\n",
      "Epoch 2 - Save Best Score: 0.8589 Model\n",
      "Epoch 2 - Save Best Score: 0.8589 Model\n",
      "Epoch 2 - Save Best Score: 0.8589 Model\n"
     ]
    },
    {
     "name": "stdout",
     "output_type": "stream",
     "text": [
      "EVAL: [49/49] Data 0.000 (0.003) Elapsed 0m 3s (remain 0m 0s) Loss: 1.6937(1.4509) \n",
      "Epoch: [3][1/192] Data 0.270 (0.270) Elapsed 0m 5s (remain 17m 43s) Loss: 1.4236(1.4236) Grad: 10.4607  \n",
      "Epoch: [3][101/192] Data 0.000 (0.003) Elapsed 8m 40s (remain 7m 48s) Loss: 1.3522(1.4297) Grad: 6.6661  \n",
      "Epoch: [3][192/192] Data 0.000 (0.002) Elapsed 16m 27s (remain 0m 0s) Loss: 1.4726(1.4246) Grad: 3.3422  \n",
      "EVAL: [1/49] Data 0.137 (0.137) Elapsed 0m 0s (remain 0m 12s) Loss: 1.4194(1.4194) \n"
     ]
    },
    {
     "name": "stderr",
     "output_type": "stream",
     "text": [
      "Epoch 3 - avg_train_loss: 1.4246  avg_val_loss: 1.4336  time: 991s\n",
      "Epoch 3 - avg_train_loss: 1.4246  avg_val_loss: 1.4336  time: 991s\n",
      "Epoch 3 - avg_train_loss: 1.4246  avg_val_loss: 1.4336  time: 991s\n",
      "Epoch 3 - Accuracy: 0.8530559167750326\n",
      "Epoch 3 - Accuracy: 0.8530559167750326\n",
      "Epoch 3 - Accuracy: 0.8530559167750326\n"
     ]
    },
    {
     "name": "stdout",
     "output_type": "stream",
     "text": [
      "EVAL: [49/49] Data 0.000 (0.003) Elapsed 0m 3s (remain 0m 0s) Loss: 1.7427(1.4336) \n",
      "Epoch: [4][1/192] Data 0.310 (0.310) Elapsed 0m 5s (remain 18m 15s) Loss: 1.4233(1.4233) Grad: 12.6194  \n",
      "Epoch: [4][101/192] Data 0.000 (0.003) Elapsed 8m 39s (remain 7m 48s) Loss: 1.3464(1.4162) Grad: 5.2202  \n",
      "Epoch: [4][192/192] Data 0.000 (0.002) Elapsed 16m 35s (remain 0m 0s) Loss: 1.4605(1.4131) Grad: 2.8232  \n",
      "EVAL: [1/49] Data 0.153 (0.153) Elapsed 0m 0s (remain 0m 14s) Loss: 1.4226(1.4226) \n"
     ]
    },
    {
     "name": "stderr",
     "output_type": "stream",
     "text": [
      "Epoch 4 - avg_train_loss: 1.4131  avg_val_loss: 1.4314  time: 1000s\n",
      "Epoch 4 - avg_train_loss: 1.4131  avg_val_loss: 1.4314  time: 1000s\n",
      "Epoch 4 - avg_train_loss: 1.4131  avg_val_loss: 1.4314  time: 1000s\n",
      "Epoch 4 - Accuracy: 0.8621586475942783\n",
      "Epoch 4 - Accuracy: 0.8621586475942783\n",
      "Epoch 4 - Accuracy: 0.8621586475942783\n",
      "Epoch 4 - Save Best Score: 0.8622 Model\n",
      "Epoch 4 - Save Best Score: 0.8622 Model\n",
      "Epoch 4 - Save Best Score: 0.8622 Model\n"
     ]
    },
    {
     "name": "stdout",
     "output_type": "stream",
     "text": [
      "EVAL: [49/49] Data 0.000 (0.003) Elapsed 0m 4s (remain 0m 0s) Loss: 1.7299(1.4314) \n",
      "Epoch: [5][1/192] Data 0.348 (0.348) Elapsed 0m 7s (remain 24m 19s) Loss: 1.4191(1.4191) Grad: 13.7797  \n",
      "Epoch: [5][101/192] Data 0.000 (0.004) Elapsed 9m 46s (remain 8m 48s) Loss: 1.3369(1.4067) Grad: 3.9629  \n",
      "Epoch: [5][192/192] Data 0.000 (0.002) Elapsed 18m 17s (remain 0m 0s) Loss: 1.4826(1.4034) Grad: 1.9564  \n",
      "EVAL: [1/49] Data 0.152 (0.152) Elapsed 0m 0s (remain 0m 13s) Loss: 1.4114(1.4114) \n"
     ]
    },
    {
     "name": "stderr",
     "output_type": "stream",
     "text": [
      "Epoch 5 - avg_train_loss: 1.4034  avg_val_loss: 1.4190  time: 1103s\n",
      "Epoch 5 - avg_train_loss: 1.4034  avg_val_loss: 1.4190  time: 1103s\n",
      "Epoch 5 - avg_train_loss: 1.4034  avg_val_loss: 1.4190  time: 1103s\n",
      "Epoch 5 - Accuracy: 0.871261378413524\n",
      "Epoch 5 - Accuracy: 0.871261378413524\n",
      "Epoch 5 - Accuracy: 0.871261378413524\n",
      "Epoch 5 - Save Best Score: 0.8713 Model\n",
      "Epoch 5 - Save Best Score: 0.8713 Model\n",
      "Epoch 5 - Save Best Score: 0.8713 Model\n"
     ]
    },
    {
     "name": "stdout",
     "output_type": "stream",
     "text": [
      "EVAL: [49/49] Data 0.000 (0.003) Elapsed 0m 4s (remain 0m 0s) Loss: 1.7294(1.4190) \n",
      "Epoch: [6][1/192] Data 0.325 (0.325) Elapsed 0m 6s (remain 21m 40s) Loss: 1.4083(1.4083) Grad: 13.5004  \n",
      "Epoch: [6][101/192] Data 0.000 (0.003) Elapsed 9m 13s (remain 8m 18s) Loss: 1.3445(1.4006) Grad: 4.3288  \n",
      "Epoch: [6][192/192] Data 0.000 (0.002) Elapsed 16m 57s (remain 0m 0s) Loss: 1.4551(1.3973) Grad: 2.9101  \n",
      "EVAL: [1/49] Data 0.122 (0.122) Elapsed 0m 0s (remain 0m 11s) Loss: 1.4142(1.4142) \n"
     ]
    },
    {
     "name": "stderr",
     "output_type": "stream",
     "text": [
      "Epoch 6 - avg_train_loss: 1.3973  avg_val_loss: 1.4247  time: 1021s\n",
      "Epoch 6 - avg_train_loss: 1.3973  avg_val_loss: 1.4247  time: 1021s\n",
      "Epoch 6 - avg_train_loss: 1.3973  avg_val_loss: 1.4247  time: 1021s\n",
      "Epoch 6 - Accuracy: 0.8699609882964889\n",
      "Epoch 6 - Accuracy: 0.8699609882964889\n",
      "Epoch 6 - Accuracy: 0.8699609882964889\n"
     ]
    },
    {
     "name": "stdout",
     "output_type": "stream",
     "text": [
      "EVAL: [49/49] Data 0.000 (0.003) Elapsed 0m 3s (remain 0m 0s) Loss: 1.7117(1.4247) \n",
      "Epoch: [7][1/192] Data 0.239 (0.239) Elapsed 0m 5s (remain 18m 31s) Loss: 1.3990(1.3990) Grad: 12.9604  \n",
      "Epoch: [7][101/192] Data 0.000 (0.003) Elapsed 8m 38s (remain 7m 46s) Loss: 1.3309(1.3948) Grad: 4.0775  \n",
      "Epoch: [7][192/192] Data 0.000 (0.001) Elapsed 16m 22s (remain 0m 0s) Loss: 1.4636(1.3918) Grad: 3.2339  \n",
      "EVAL: [1/49] Data 0.111 (0.111) Elapsed 0m 0s (remain 0m 10s) Loss: 1.4091(1.4091) \n"
     ]
    },
    {
     "name": "stderr",
     "output_type": "stream",
     "text": [
      "Epoch 7 - avg_train_loss: 1.3918  avg_val_loss: 1.4216  time: 986s\n",
      "Epoch 7 - avg_train_loss: 1.3918  avg_val_loss: 1.4216  time: 986s\n",
      "Epoch 7 - avg_train_loss: 1.3918  avg_val_loss: 1.4216  time: 986s\n",
      "Epoch 7 - Accuracy: 0.8706111833550065\n",
      "Epoch 7 - Accuracy: 0.8706111833550065\n",
      "Epoch 7 - Accuracy: 0.8706111833550065\n"
     ]
    },
    {
     "name": "stdout",
     "output_type": "stream",
     "text": [
      "EVAL: [49/49] Data 0.000 (0.003) Elapsed 0m 4s (remain 0m 0s) Loss: 1.6858(1.4216) \n",
      "Epoch: [8][1/192] Data 0.294 (0.294) Elapsed 0m 5s (remain 18m 57s) Loss: 1.3886(1.3886) Grad: 13.3887  \n",
      "Epoch: [8][101/192] Data 0.000 (0.003) Elapsed 8m 36s (remain 7m 45s) Loss: 1.3328(1.3925) Grad: 3.0949  \n",
      "Epoch: [8][192/192] Data 0.000 (0.002) Elapsed 16m 18s (remain 0m 0s) Loss: 1.4731(1.3892) Grad: 2.3897  \n",
      "EVAL: [1/49] Data 0.141 (0.141) Elapsed 0m 0s (remain 0m 11s) Loss: 1.4021(1.4021) \n"
     ]
    },
    {
     "name": "stderr",
     "output_type": "stream",
     "text": [
      "Epoch 8 - avg_train_loss: 1.3892  avg_val_loss: 1.4211  time: 982s\n",
      "Epoch 8 - avg_train_loss: 1.3892  avg_val_loss: 1.4211  time: 982s\n",
      "Epoch 8 - avg_train_loss: 1.3892  avg_val_loss: 1.4211  time: 982s\n",
      "Epoch 8 - Accuracy: 0.8725617685305592\n",
      "Epoch 8 - Accuracy: 0.8725617685305592\n",
      "Epoch 8 - Accuracy: 0.8725617685305592\n",
      "Epoch 8 - Save Best Score: 0.8726 Model\n",
      "Epoch 8 - Save Best Score: 0.8726 Model\n",
      "Epoch 8 - Save Best Score: 0.8726 Model\n"
     ]
    },
    {
     "name": "stdout",
     "output_type": "stream",
     "text": [
      "EVAL: [49/49] Data 0.000 (0.003) Elapsed 0m 3s (remain 0m 0s) Loss: 1.7125(1.4211) \n",
      "Epoch: [9][1/192] Data 0.247 (0.247) Elapsed 0m 5s (remain 17m 20s) Loss: 1.3854(1.3854) Grad: 12.2468  \n",
      "Epoch: [9][101/192] Data 0.000 (0.003) Elapsed 8m 36s (remain 7m 45s) Loss: 1.3369(1.3877) Grad: 2.7813  \n",
      "Epoch: [9][192/192] Data 0.000 (0.001) Elapsed 16m 24s (remain 0m 0s) Loss: 1.4513(1.3861) Grad: 4.3682  \n",
      "EVAL: [1/49] Data 0.121 (0.121) Elapsed 0m 0s (remain 0m 10s) Loss: 1.4009(1.4009) \n"
     ]
    },
    {
     "name": "stderr",
     "output_type": "stream",
     "text": [
      "Epoch 9 - avg_train_loss: 1.3861  avg_val_loss: 1.4210  time: 988s\n",
      "Epoch 9 - avg_train_loss: 1.3861  avg_val_loss: 1.4210  time: 988s\n",
      "Epoch 9 - avg_train_loss: 1.3861  avg_val_loss: 1.4210  time: 988s\n",
      "Epoch 9 - Accuracy: 0.8706111833550065\n",
      "Epoch 9 - Accuracy: 0.8706111833550065\n",
      "Epoch 9 - Accuracy: 0.8706111833550065\n"
     ]
    },
    {
     "name": "stdout",
     "output_type": "stream",
     "text": [
      "EVAL: [49/49] Data 0.000 (0.003) Elapsed 0m 3s (remain 0m 0s) Loss: 1.7212(1.4210) \n",
      "Epoch: [10][1/192] Data 0.223 (0.223) Elapsed 0m 5s (remain 17m 58s) Loss: 1.3764(1.3764) Grad: 10.5629  \n",
      "Epoch: [10][101/192] Data 0.000 (0.002) Elapsed 8m 39s (remain 7m 48s) Loss: 1.3374(1.3880) Grad: 2.5684  \n",
      "Epoch: [10][192/192] Data 0.000 (0.001) Elapsed 16m 23s (remain 0m 0s) Loss: 1.4727(1.3848) Grad: 3.1140  \n",
      "EVAL: [1/49] Data 0.139 (0.139) Elapsed 0m 0s (remain 0m 10s) Loss: 1.4003(1.4003) \n"
     ]
    },
    {
     "name": "stderr",
     "output_type": "stream",
     "text": [
      "Epoch 10 - avg_train_loss: 1.3848  avg_val_loss: 1.4191  time: 987s\n",
      "Epoch 10 - avg_train_loss: 1.3848  avg_val_loss: 1.4191  time: 987s\n",
      "Epoch 10 - avg_train_loss: 1.3848  avg_val_loss: 1.4191  time: 987s\n",
      "Epoch 10 - Accuracy: 0.8758127438231469\n",
      "Epoch 10 - Accuracy: 0.8758127438231469\n",
      "Epoch 10 - Accuracy: 0.8758127438231469\n",
      "Epoch 10 - Save Best Score: 0.8758 Model\n",
      "Epoch 10 - Save Best Score: 0.8758 Model\n",
      "Epoch 10 - Save Best Score: 0.8758 Model\n",
      "========== CV ==========\n",
      "========== CV ==========\n",
      "========== CV ==========\n"
     ]
    },
    {
     "name": "stdout",
     "output_type": "stream",
     "text": [
      "EVAL: [49/49] Data 0.000 (0.003) Elapsed 0m 3s (remain 0m 0s) Loss: 1.7142(1.4191) \n"
     ]
    },
    {
     "ename": "KeyError",
     "evalue": "'preds'",
     "output_type": "error",
     "traceback": [
      "\u001b[0;31m---------------------------------------------------------------------------\u001b[0m",
      "\u001b[0;31mKeyError\u001b[0m                                  Traceback (most recent call last)",
      "File \u001b[0;32m~/.local/lib/python3.8/site-packages/pandas/core/indexes/base.py:3653\u001b[0m, in \u001b[0;36mIndex.get_loc\u001b[0;34m(self, key)\u001b[0m\n\u001b[1;32m   3652\u001b[0m \u001b[39mtry\u001b[39;00m:\n\u001b[0;32m-> 3653\u001b[0m     \u001b[39mreturn\u001b[39;00m \u001b[39mself\u001b[39;49m\u001b[39m.\u001b[39;49m_engine\u001b[39m.\u001b[39;49mget_loc(casted_key)\n\u001b[1;32m   3654\u001b[0m \u001b[39mexcept\u001b[39;00m \u001b[39mKeyError\u001b[39;00m \u001b[39mas\u001b[39;00m err:\n",
      "File \u001b[0;32m~/.local/lib/python3.8/site-packages/pandas/_libs/index.pyx:147\u001b[0m, in \u001b[0;36mpandas._libs.index.IndexEngine.get_loc\u001b[0;34m()\u001b[0m\n",
      "File \u001b[0;32m~/.local/lib/python3.8/site-packages/pandas/_libs/index.pyx:176\u001b[0m, in \u001b[0;36mpandas._libs.index.IndexEngine.get_loc\u001b[0;34m()\u001b[0m\n",
      "File \u001b[0;32mpandas/_libs/hashtable_class_helper.pxi:7080\u001b[0m, in \u001b[0;36mpandas._libs.hashtable.PyObjectHashTable.get_item\u001b[0;34m()\u001b[0m\n",
      "File \u001b[0;32mpandas/_libs/hashtable_class_helper.pxi:7088\u001b[0m, in \u001b[0;36mpandas._libs.hashtable.PyObjectHashTable.get_item\u001b[0;34m()\u001b[0m\n",
      "\u001b[0;31mKeyError\u001b[0m: 'preds'",
      "\nThe above exception was the direct cause of the following exception:\n",
      "\u001b[0;31mKeyError\u001b[0m                                  Traceback (most recent call last)",
      "\u001b[1;32m/home/next/Quantum/Quantum-machine-learning-for-high-dimensional-data/share_solution/working/build_nocall_detector_baseline_v6.ipynb Cell 18\u001b[0m line \u001b[0;36m2\n\u001b[1;32m      <a href='vscode-notebook-cell://wsl%2Bubuntu-22.04/home/next/Quantum/Quantum-machine-learning-for-high-dimensional-data/share_solution/working/build_nocall_detector_baseline_v6.ipynb#X23sdnNjb2RlLXJlbW90ZQ%3D%3D?line=0'>1</a>\u001b[0m \u001b[39mif\u001b[39;00m \u001b[39m__name__\u001b[39m \u001b[39m==\u001b[39m \u001b[39m'\u001b[39m\u001b[39m__main__\u001b[39m\u001b[39m'\u001b[39m:\n\u001b[0;32m----> <a href='vscode-notebook-cell://wsl%2Bubuntu-22.04/home/next/Quantum/Quantum-machine-learning-for-high-dimensional-data/share_solution/working/build_nocall_detector_baseline_v6.ipynb#X23sdnNjb2RlLXJlbW90ZQ%3D%3D?line=1'>2</a>\u001b[0m     main(\u001b[39m0\u001b[39;49m)\n",
      "\u001b[1;32m/home/next/Quantum/Quantum-machine-learning-for-high-dimensional-data/share_solution/working/build_nocall_detector_baseline_v6.ipynb Cell 18\u001b[0m line \u001b[0;36m2\n\u001b[1;32m     <a href='vscode-notebook-cell://wsl%2Bubuntu-22.04/home/next/Quantum/Quantum-machine-learning-for-high-dimensional-data/share_solution/working/build_nocall_detector_baseline_v6.ipynb#X23sdnNjb2RlLXJlbW90ZQ%3D%3D?line=20'>21</a>\u001b[0m \u001b[39m# CV result\u001b[39;00m\n\u001b[1;32m     <a href='vscode-notebook-cell://wsl%2Bubuntu-22.04/home/next/Quantum/Quantum-machine-learning-for-high-dimensional-data/share_solution/working/build_nocall_detector_baseline_v6.ipynb#X23sdnNjb2RlLXJlbW90ZQ%3D%3D?line=21'>22</a>\u001b[0m LOGGER\u001b[39m.\u001b[39minfo(\u001b[39mf\u001b[39m\u001b[39m\"\u001b[39m\u001b[39m========== CV ==========\u001b[39m\u001b[39m\"\u001b[39m)\n\u001b[0;32m---> <a href='vscode-notebook-cell://wsl%2Bubuntu-22.04/home/next/Quantum/Quantum-machine-learning-for-high-dimensional-data/share_solution/working/build_nocall_detector_baseline_v6.ipynb#X23sdnNjb2RlLXJlbW90ZQ%3D%3D?line=22'>23</a>\u001b[0m get_result(oof_df)\n\u001b[1;32m     <a href='vscode-notebook-cell://wsl%2Bubuntu-22.04/home/next/Quantum/Quantum-machine-learning-for-high-dimensional-data/share_solution/working/build_nocall_detector_baseline_v6.ipynb#X23sdnNjb2RlLXJlbW90ZQ%3D%3D?line=23'>24</a>\u001b[0m get_result2(oof_df)\n\u001b[1;32m     <a href='vscode-notebook-cell://wsl%2Bubuntu-22.04/home/next/Quantum/Quantum-machine-learning-for-high-dimensional-data/share_solution/working/build_nocall_detector_baseline_v6.ipynb#X23sdnNjb2RlLXJlbW90ZQ%3D%3D?line=24'>25</a>\u001b[0m \u001b[39m# save result\u001b[39;00m\n",
      "\u001b[1;32m/home/next/Quantum/Quantum-machine-learning-for-high-dimensional-data/share_solution/working/build_nocall_detector_baseline_v6.ipynb Cell 18\u001b[0m line \u001b[0;36m3\n\u001b[1;32m      <a href='vscode-notebook-cell://wsl%2Bubuntu-22.04/home/next/Quantum/Quantum-machine-learning-for-high-dimensional-data/share_solution/working/build_nocall_detector_baseline_v6.ipynb#X23sdnNjb2RlLXJlbW90ZQ%3D%3D?line=1'>2</a>\u001b[0m \u001b[39mdef\u001b[39;00m \u001b[39mget_result\u001b[39m(result_df):\n\u001b[0;32m----> <a href='vscode-notebook-cell://wsl%2Bubuntu-22.04/home/next/Quantum/Quantum-machine-learning-for-high-dimensional-data/share_solution/working/build_nocall_detector_baseline_v6.ipynb#X23sdnNjb2RlLXJlbW90ZQ%3D%3D?line=2'>3</a>\u001b[0m     preds \u001b[39m=\u001b[39m result_df[\u001b[39m'\u001b[39;49m\u001b[39mpreds\u001b[39;49m\u001b[39m'\u001b[39;49m]\u001b[39m.\u001b[39mvalues\n\u001b[1;32m      <a href='vscode-notebook-cell://wsl%2Bubuntu-22.04/home/next/Quantum/Quantum-machine-learning-for-high-dimensional-data/share_solution/working/build_nocall_detector_baseline_v6.ipynb#X23sdnNjb2RlLXJlbW90ZQ%3D%3D?line=3'>4</a>\u001b[0m     labels \u001b[39m=\u001b[39m result_df[CFG\u001b[39m.\u001b[39mtarget_col]\u001b[39m.\u001b[39mvalues\n\u001b[1;32m      <a href='vscode-notebook-cell://wsl%2Bubuntu-22.04/home/next/Quantum/Quantum-machine-learning-for-high-dimensional-data/share_solution/working/build_nocall_detector_baseline_v6.ipynb#X23sdnNjb2RlLXJlbW90ZQ%3D%3D?line=4'>5</a>\u001b[0m     score \u001b[39m=\u001b[39m get_score(labels, preds)\n",
      "File \u001b[0;32m~/.local/lib/python3.8/site-packages/pandas/core/frame.py:3761\u001b[0m, in \u001b[0;36mDataFrame.__getitem__\u001b[0;34m(self, key)\u001b[0m\n\u001b[1;32m   3759\u001b[0m \u001b[39mif\u001b[39;00m \u001b[39mself\u001b[39m\u001b[39m.\u001b[39mcolumns\u001b[39m.\u001b[39mnlevels \u001b[39m>\u001b[39m \u001b[39m1\u001b[39m:\n\u001b[1;32m   3760\u001b[0m     \u001b[39mreturn\u001b[39;00m \u001b[39mself\u001b[39m\u001b[39m.\u001b[39m_getitem_multilevel(key)\n\u001b[0;32m-> 3761\u001b[0m indexer \u001b[39m=\u001b[39m \u001b[39mself\u001b[39;49m\u001b[39m.\u001b[39;49mcolumns\u001b[39m.\u001b[39;49mget_loc(key)\n\u001b[1;32m   3762\u001b[0m \u001b[39mif\u001b[39;00m is_integer(indexer):\n\u001b[1;32m   3763\u001b[0m     indexer \u001b[39m=\u001b[39m [indexer]\n",
      "File \u001b[0;32m~/.local/lib/python3.8/site-packages/pandas/core/indexes/base.py:3655\u001b[0m, in \u001b[0;36mIndex.get_loc\u001b[0;34m(self, key)\u001b[0m\n\u001b[1;32m   3653\u001b[0m     \u001b[39mreturn\u001b[39;00m \u001b[39mself\u001b[39m\u001b[39m.\u001b[39m_engine\u001b[39m.\u001b[39mget_loc(casted_key)\n\u001b[1;32m   3654\u001b[0m \u001b[39mexcept\u001b[39;00m \u001b[39mKeyError\u001b[39;00m \u001b[39mas\u001b[39;00m err:\n\u001b[0;32m-> 3655\u001b[0m     \u001b[39mraise\u001b[39;00m \u001b[39mKeyError\u001b[39;00m(key) \u001b[39mfrom\u001b[39;00m \u001b[39merr\u001b[39;00m\n\u001b[1;32m   3656\u001b[0m \u001b[39mexcept\u001b[39;00m \u001b[39mTypeError\u001b[39;00m:\n\u001b[1;32m   3657\u001b[0m     \u001b[39m# If we have a listlike key, _check_indexing_error will raise\u001b[39;00m\n\u001b[1;32m   3658\u001b[0m     \u001b[39m#  InvalidIndexError. Otherwise we fall through and re-raise\u001b[39;00m\n\u001b[1;32m   3659\u001b[0m     \u001b[39m#  the TypeError.\u001b[39;00m\n\u001b[1;32m   3660\u001b[0m     \u001b[39mself\u001b[39m\u001b[39m.\u001b[39m_check_indexing_error(key)\n",
      "\u001b[0;31mKeyError\u001b[0m: 'preds'"
     ]
    }
   ],
   "source": [
    "if __name__ == '__main__':\n",
    "    main(0)"
   ]
  }
 ],
 "metadata": {
  "kernelspec": {
   "display_name": "Python 3",
   "language": "python",
   "name": "python3"
  },
  "language_info": {
   "codemirror_mode": {
    "name": "ipython",
    "version": 3
   },
   "file_extension": ".py",
   "mimetype": "text/x-python",
   "name": "python",
   "nbconvert_exporter": "python",
   "pygments_lexer": "ipython3",
   "version": "3.8.18"
  },
  "papermill": {
   "default_parameters": {},
   "duration": 921.862366,
   "end_time": "2021-06-03T13:33:31.832533",
   "environment_variables": {},
   "exception": null,
   "input_path": "__notebook__.ipynb",
   "output_path": "__notebook__.ipynb",
   "parameters": {},
   "start_time": "2021-06-03T13:18:09.970167",
   "version": "2.3.3"
  }
 },
 "nbformat": 4,
 "nbformat_minor": 5
}
